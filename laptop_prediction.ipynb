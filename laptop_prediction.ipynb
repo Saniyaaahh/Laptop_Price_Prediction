{
  "nbformat": 4,
  "nbformat_minor": 0,
  "metadata": {
    "colab": {
      "provenance": []
    },
    "kernelspec": {
      "name": "python3",
      "display_name": "Python 3"
    },
    "language_info": {
      "name": "python"
    }
  },
  "cells": [
    {
      "cell_type": "markdown",
      "source": [
        "# **Laptop Price Prediction**"
      ],
      "metadata": {
        "id": "qt3x9AaA_Rud"
      }
    },
    {
      "cell_type": "markdown",
      "source": [
        "**Importing Libraries**"
      ],
      "metadata": {
        "id": "Kta9eW8J_W2E"
      }
    },
    {
      "cell_type": "code",
      "execution_count": 91,
      "metadata": {
        "id": "XKIKYsa4ml6S"
      },
      "outputs": [],
      "source": [
        "import pandas as pd\n",
        "import matplotlib.pyplot as plt\n",
        "import seaborn as sns\n",
        "import numpy as np"
      ]
    },
    {
      "cell_type": "markdown",
      "source": [
        "**Loading DataSet**"
      ],
      "metadata": {
        "id": "_xI6XLSF_ZSU"
      }
    },
    {
      "cell_type": "code",
      "source": [
        "df = pd.read_csv('/content/laptop_data.csv')"
      ],
      "metadata": {
        "id": "hFB0oMSI_HiC"
      },
      "execution_count": 2,
      "outputs": []
    },
    {
      "cell_type": "code",
      "source": [
        "df.head()"
      ],
      "metadata": {
        "colab": {
          "base_uri": "https://localhost:8080/",
          "height": 350
        },
        "id": "MkDf6b5w_J3J",
        "outputId": "88ab2240-01de-4941-b42c-70d3f860bbf7"
      },
      "execution_count": 3,
      "outputs": [
        {
          "output_type": "execute_result",
          "data": {
            "text/plain": [
              "   Unnamed: 0 Company   TypeName  Inches                    ScreenResolution  \\\n",
              "0           0   Apple  Ultrabook    13.3  IPS Panel Retina Display 2560x1600   \n",
              "1           1   Apple  Ultrabook    13.3                            1440x900   \n",
              "2           2      HP   Notebook    15.6                   Full HD 1920x1080   \n",
              "3           3   Apple  Ultrabook    15.4  IPS Panel Retina Display 2880x1800   \n",
              "4           4   Apple  Ultrabook    13.3  IPS Panel Retina Display 2560x1600   \n",
              "\n",
              "                          Cpu   Ram               Memory  \\\n",
              "0        Intel Core i5 2.3GHz   8GB            128GB SSD   \n",
              "1        Intel Core i5 1.8GHz   8GB  128GB Flash Storage   \n",
              "2  Intel Core i5 7200U 2.5GHz   8GB            256GB SSD   \n",
              "3        Intel Core i7 2.7GHz  16GB            512GB SSD   \n",
              "4        Intel Core i5 3.1GHz   8GB            256GB SSD   \n",
              "\n",
              "                            Gpu  OpSys  Weight        Price  \n",
              "0  Intel Iris Plus Graphics 640  macOS  1.37kg   71378.6832  \n",
              "1        Intel HD Graphics 6000  macOS  1.34kg   47895.5232  \n",
              "2         Intel HD Graphics 620  No OS  1.86kg   30636.0000  \n",
              "3            AMD Radeon Pro 455  macOS  1.83kg  135195.3360  \n",
              "4  Intel Iris Plus Graphics 650  macOS  1.37kg   96095.8080  "
            ],
            "text/html": [
              "\n",
              "  <div id=\"df-8bc4d4ce-e348-47c7-b015-b908a7a605bc\">\n",
              "    <div class=\"colab-df-container\">\n",
              "      <div>\n",
              "<style scoped>\n",
              "    .dataframe tbody tr th:only-of-type {\n",
              "        vertical-align: middle;\n",
              "    }\n",
              "\n",
              "    .dataframe tbody tr th {\n",
              "        vertical-align: top;\n",
              "    }\n",
              "\n",
              "    .dataframe thead th {\n",
              "        text-align: right;\n",
              "    }\n",
              "</style>\n",
              "<table border=\"1\" class=\"dataframe\">\n",
              "  <thead>\n",
              "    <tr style=\"text-align: right;\">\n",
              "      <th></th>\n",
              "      <th>Unnamed: 0</th>\n",
              "      <th>Company</th>\n",
              "      <th>TypeName</th>\n",
              "      <th>Inches</th>\n",
              "      <th>ScreenResolution</th>\n",
              "      <th>Cpu</th>\n",
              "      <th>Ram</th>\n",
              "      <th>Memory</th>\n",
              "      <th>Gpu</th>\n",
              "      <th>OpSys</th>\n",
              "      <th>Weight</th>\n",
              "      <th>Price</th>\n",
              "    </tr>\n",
              "  </thead>\n",
              "  <tbody>\n",
              "    <tr>\n",
              "      <th>0</th>\n",
              "      <td>0</td>\n",
              "      <td>Apple</td>\n",
              "      <td>Ultrabook</td>\n",
              "      <td>13.3</td>\n",
              "      <td>IPS Panel Retina Display 2560x1600</td>\n",
              "      <td>Intel Core i5 2.3GHz</td>\n",
              "      <td>8GB</td>\n",
              "      <td>128GB SSD</td>\n",
              "      <td>Intel Iris Plus Graphics 640</td>\n",
              "      <td>macOS</td>\n",
              "      <td>1.37kg</td>\n",
              "      <td>71378.6832</td>\n",
              "    </tr>\n",
              "    <tr>\n",
              "      <th>1</th>\n",
              "      <td>1</td>\n",
              "      <td>Apple</td>\n",
              "      <td>Ultrabook</td>\n",
              "      <td>13.3</td>\n",
              "      <td>1440x900</td>\n",
              "      <td>Intel Core i5 1.8GHz</td>\n",
              "      <td>8GB</td>\n",
              "      <td>128GB Flash Storage</td>\n",
              "      <td>Intel HD Graphics 6000</td>\n",
              "      <td>macOS</td>\n",
              "      <td>1.34kg</td>\n",
              "      <td>47895.5232</td>\n",
              "    </tr>\n",
              "    <tr>\n",
              "      <th>2</th>\n",
              "      <td>2</td>\n",
              "      <td>HP</td>\n",
              "      <td>Notebook</td>\n",
              "      <td>15.6</td>\n",
              "      <td>Full HD 1920x1080</td>\n",
              "      <td>Intel Core i5 7200U 2.5GHz</td>\n",
              "      <td>8GB</td>\n",
              "      <td>256GB SSD</td>\n",
              "      <td>Intel HD Graphics 620</td>\n",
              "      <td>No OS</td>\n",
              "      <td>1.86kg</td>\n",
              "      <td>30636.0000</td>\n",
              "    </tr>\n",
              "    <tr>\n",
              "      <th>3</th>\n",
              "      <td>3</td>\n",
              "      <td>Apple</td>\n",
              "      <td>Ultrabook</td>\n",
              "      <td>15.4</td>\n",
              "      <td>IPS Panel Retina Display 2880x1800</td>\n",
              "      <td>Intel Core i7 2.7GHz</td>\n",
              "      <td>16GB</td>\n",
              "      <td>512GB SSD</td>\n",
              "      <td>AMD Radeon Pro 455</td>\n",
              "      <td>macOS</td>\n",
              "      <td>1.83kg</td>\n",
              "      <td>135195.3360</td>\n",
              "    </tr>\n",
              "    <tr>\n",
              "      <th>4</th>\n",
              "      <td>4</td>\n",
              "      <td>Apple</td>\n",
              "      <td>Ultrabook</td>\n",
              "      <td>13.3</td>\n",
              "      <td>IPS Panel Retina Display 2560x1600</td>\n",
              "      <td>Intel Core i5 3.1GHz</td>\n",
              "      <td>8GB</td>\n",
              "      <td>256GB SSD</td>\n",
              "      <td>Intel Iris Plus Graphics 650</td>\n",
              "      <td>macOS</td>\n",
              "      <td>1.37kg</td>\n",
              "      <td>96095.8080</td>\n",
              "    </tr>\n",
              "  </tbody>\n",
              "</table>\n",
              "</div>\n",
              "      <button class=\"colab-df-convert\" onclick=\"convertToInteractive('df-8bc4d4ce-e348-47c7-b015-b908a7a605bc')\"\n",
              "              title=\"Convert this dataframe to an interactive table.\"\n",
              "              style=\"display:none;\">\n",
              "        \n",
              "  <svg xmlns=\"http://www.w3.org/2000/svg\" height=\"24px\"viewBox=\"0 0 24 24\"\n",
              "       width=\"24px\">\n",
              "    <path d=\"M0 0h24v24H0V0z\" fill=\"none\"/>\n",
              "    <path d=\"M18.56 5.44l.94 2.06.94-2.06 2.06-.94-2.06-.94-.94-2.06-.94 2.06-2.06.94zm-11 1L8.5 8.5l.94-2.06 2.06-.94-2.06-.94L8.5 2.5l-.94 2.06-2.06.94zm10 10l.94 2.06.94-2.06 2.06-.94-2.06-.94-.94-2.06-.94 2.06-2.06.94z\"/><path d=\"M17.41 7.96l-1.37-1.37c-.4-.4-.92-.59-1.43-.59-.52 0-1.04.2-1.43.59L10.3 9.45l-7.72 7.72c-.78.78-.78 2.05 0 2.83L4 21.41c.39.39.9.59 1.41.59.51 0 1.02-.2 1.41-.59l7.78-7.78 2.81-2.81c.8-.78.8-2.07 0-2.86zM5.41 20L4 18.59l7.72-7.72 1.47 1.35L5.41 20z\"/>\n",
              "  </svg>\n",
              "      </button>\n",
              "      \n",
              "  <style>\n",
              "    .colab-df-container {\n",
              "      display:flex;\n",
              "      flex-wrap:wrap;\n",
              "      gap: 12px;\n",
              "    }\n",
              "\n",
              "    .colab-df-convert {\n",
              "      background-color: #E8F0FE;\n",
              "      border: none;\n",
              "      border-radius: 50%;\n",
              "      cursor: pointer;\n",
              "      display: none;\n",
              "      fill: #1967D2;\n",
              "      height: 32px;\n",
              "      padding: 0 0 0 0;\n",
              "      width: 32px;\n",
              "    }\n",
              "\n",
              "    .colab-df-convert:hover {\n",
              "      background-color: #E2EBFA;\n",
              "      box-shadow: 0px 1px 2px rgba(60, 64, 67, 0.3), 0px 1px 3px 1px rgba(60, 64, 67, 0.15);\n",
              "      fill: #174EA6;\n",
              "    }\n",
              "\n",
              "    [theme=dark] .colab-df-convert {\n",
              "      background-color: #3B4455;\n",
              "      fill: #D2E3FC;\n",
              "    }\n",
              "\n",
              "    [theme=dark] .colab-df-convert:hover {\n",
              "      background-color: #434B5C;\n",
              "      box-shadow: 0px 1px 3px 1px rgba(0, 0, 0, 0.15);\n",
              "      filter: drop-shadow(0px 1px 2px rgba(0, 0, 0, 0.3));\n",
              "      fill: #FFFFFF;\n",
              "    }\n",
              "  </style>\n",
              "\n",
              "      <script>\n",
              "        const buttonEl =\n",
              "          document.querySelector('#df-8bc4d4ce-e348-47c7-b015-b908a7a605bc button.colab-df-convert');\n",
              "        buttonEl.style.display =\n",
              "          google.colab.kernel.accessAllowed ? 'block' : 'none';\n",
              "\n",
              "        async function convertToInteractive(key) {\n",
              "          const element = document.querySelector('#df-8bc4d4ce-e348-47c7-b015-b908a7a605bc');\n",
              "          const dataTable =\n",
              "            await google.colab.kernel.invokeFunction('convertToInteractive',\n",
              "                                                     [key], {});\n",
              "          if (!dataTable) return;\n",
              "\n",
              "          const docLinkHtml = 'Like what you see? Visit the ' +\n",
              "            '<a target=\"_blank\" href=https://colab.research.google.com/notebooks/data_table.ipynb>data table notebook</a>'\n",
              "            + ' to learn more about interactive tables.';\n",
              "          element.innerHTML = '';\n",
              "          dataTable['output_type'] = 'display_data';\n",
              "          await google.colab.output.renderOutput(dataTable, element);\n",
              "          const docLink = document.createElement('div');\n",
              "          docLink.innerHTML = docLinkHtml;\n",
              "          element.appendChild(docLink);\n",
              "        }\n",
              "      </script>\n",
              "    </div>\n",
              "  </div>\n",
              "  "
            ]
          },
          "metadata": {},
          "execution_count": 3
        }
      ]
    },
    {
      "cell_type": "markdown",
      "source": [
        "**Data Cleaning**"
      ],
      "metadata": {
        "id": "ocxLNFB7_c0H"
      }
    },
    {
      "cell_type": "code",
      "source": [
        "df.shape"
      ],
      "metadata": {
        "colab": {
          "base_uri": "https://localhost:8080/"
        },
        "id": "XVmEeNBb_Kx-",
        "outputId": "f44759d6-4139-4605-80b7-9714b0f107c1"
      },
      "execution_count": 4,
      "outputs": [
        {
          "output_type": "execute_result",
          "data": {
            "text/plain": [
              "(1303, 12)"
            ]
          },
          "metadata": {},
          "execution_count": 4
        }
      ]
    },
    {
      "cell_type": "code",
      "source": [
        "df.info()"
      ],
      "metadata": {
        "colab": {
          "base_uri": "https://localhost:8080/"
        },
        "id": "eA4F_jGx_ftx",
        "outputId": "228bdfe6-5f2f-4f28-882f-5b760f0a4d44"
      },
      "execution_count": 5,
      "outputs": [
        {
          "output_type": "stream",
          "name": "stdout",
          "text": [
            "<class 'pandas.core.frame.DataFrame'>\n",
            "RangeIndex: 1303 entries, 0 to 1302\n",
            "Data columns (total 12 columns):\n",
            " #   Column            Non-Null Count  Dtype  \n",
            "---  ------            --------------  -----  \n",
            " 0   Unnamed: 0        1303 non-null   int64  \n",
            " 1   Company           1303 non-null   object \n",
            " 2   TypeName          1303 non-null   object \n",
            " 3   Inches            1303 non-null   float64\n",
            " 4   ScreenResolution  1303 non-null   object \n",
            " 5   Cpu               1303 non-null   object \n",
            " 6   Ram               1303 non-null   object \n",
            " 7   Memory            1303 non-null   object \n",
            " 8   Gpu               1303 non-null   object \n",
            " 9   OpSys             1303 non-null   object \n",
            " 10  Weight            1303 non-null   object \n",
            " 11  Price             1303 non-null   float64\n",
            "dtypes: float64(2), int64(1), object(9)\n",
            "memory usage: 122.3+ KB\n"
          ]
        }
      ]
    },
    {
      "cell_type": "markdown",
      "source": [
        "**Dropping unnecessary columms**"
      ],
      "metadata": {
        "id": "L9oKskct_xH-"
      }
    },
    {
      "cell_type": "code",
      "source": [
        "df.drop(columns=['Unnamed: 0'],inplace=True)"
      ],
      "metadata": {
        "id": "bdcHFdrV_iyF"
      },
      "execution_count": 6,
      "outputs": []
    },
    {
      "cell_type": "markdown",
      "source": [
        "**Cleaning Ram and Weight column**"
      ],
      "metadata": {
        "id": "gK3fxOCi_1lG"
      }
    },
    {
      "cell_type": "code",
      "source": [
        "df['Ram'] = df['Ram'].str.replace('GB', '')"
      ],
      "metadata": {
        "id": "RWMKjW2e_rqm"
      },
      "execution_count": 7,
      "outputs": []
    },
    {
      "cell_type": "code",
      "source": [
        "df['Weight'] = df['Weight'].str.replace('kg','')"
      ],
      "metadata": {
        "id": "OTjzvhYI__lh"
      },
      "execution_count": 8,
      "outputs": []
    },
    {
      "cell_type": "markdown",
      "source": [
        "**Changing their Dtypes**"
      ],
      "metadata": {
        "id": "yN8_qSI1AFhB"
      }
    },
    {
      "cell_type": "code",
      "source": [
        "df['Ram'] = df['Ram'].astype('int32')\n",
        "df['Weight'] = df['Weight'].astype('float32')"
      ],
      "metadata": {
        "id": "_XpWFGWhACDD"
      },
      "execution_count": 9,
      "outputs": []
    },
    {
      "cell_type": "markdown",
      "source": [
        "# **Exploratory Data Analysis**"
      ],
      "metadata": {
        "id": "HN9dMgBWAUBB"
      }
    },
    {
      "cell_type": "code",
      "source": [
        "company_counts = df['Company'].value_counts()\n",
        "sns.set(style='whitegrid')\n",
        "fig, ax = plt.subplots(figsize=(11, 9))\n",
        "ax = company_counts.plot(kind='bar', color='#0CB8F8')\n",
        "\n",
        "ax.set_title('Company Counts', fontweight='bold', fontsize=16)\n",
        "ax.set_xticklabels(company_counts.index, rotation=45, ha='right')\n",
        "\n",
        "ax.set_xlabel('Brands', fontweight='bold')\n",
        "ax.set_ylabel('Count', fontweight='bold')\n",
        "\n",
        "plt.show()"
      ],
      "metadata": {
        "colab": {
          "base_uri": "https://localhost:8080/",
          "height": 857
        },
        "id": "y_0YJmMRAJXO",
        "outputId": "dd17d051-4fb9-4cab-cbf3-62fbbc0175c2"
      },
      "execution_count": 50,
      "outputs": [
        {
          "output_type": "display_data",
          "data": {
            "text/plain": [
              "<Figure size 1100x900 with 1 Axes>"
            ],
            "image/png": "[encoded data removed]"
          },
          "metadata": {}
        }
      ]
    },
    {
      "cell_type": "code",
      "source": [
        "sns.barplot(x=df['Company'], y=df['Price'], color='#0CF83C')\n",
        "\n",
        "plt.title('Company Prices', fontweight='bold', fontsize=16)\n",
        "\n",
        "plt.xticks(rotation=45)\n",
        "plt.xlabel('Company', fontweight='bold')\n",
        "plt.ylabel('Price', fontweight='bold')\n",
        "sns.set(style='whitegrid')\n",
        "plt.show()\n"
      ],
      "metadata": {
        "colab": {
          "base_uri": "https://localhost:8080/",
          "height": 533
        },
        "id": "xUbLhOCNAgyv",
        "outputId": "8c7727d2-8ab1-4083-994a-e50350c2b75b"
      },
      "execution_count": 49,
      "outputs": [
        {
          "output_type": "display_data",
          "data": {
            "text/plain": [
              "<Figure size 640x480 with 1 Axes>"
            ],
            "image/png": "[encoded data removed]"
          },
          "metadata": {}
        }
      ]
    },
    {
      "cell_type": "code",
      "source": [
        "type_counts = df['TypeName'].value_counts()\n",
        "\n",
        "fig, ax = plt.subplots(figsize=(8, 6))\n",
        "ax = type_counts.plot(kind='bar', color='#F80C71')\n",
        "\n",
        "ax.set_title('Type Name Counts', fontweight='bold', fontsize=16)\n",
        "\n",
        "ax.set_xlabel('Types', fontweight='bold')\n",
        "ax.set_ylabel('Counts', fontweight='bold')\n",
        "\n",
        "plt.xticks(rotation=45)\n",
        "sns.set(style='whitegrid')\n",
        "plt.show()"
      ],
      "metadata": {
        "colab": {
          "base_uri": "https://localhost:8080/",
          "height": 666
        },
        "id": "Q2OERO8wCJW0",
        "outputId": "54b94557-9ab4-4052-ecf7-e328c836555c"
      },
      "execution_count": 48,
      "outputs": [
        {
          "output_type": "display_data",
          "data": {
            "text/plain": [
              "<Figure size 800x600 with 1 Axes>"
            ],
            "image/png": "[encoded data removed]"
          },
          "metadata": {}
        }
      ]
    },
    {
      "cell_type": "code",
      "source": [
        "sns.barplot(x=df['TypeName'], y=df['Price'], color='#0C4DF8')\n",
        "\n",
        "plt.title('Type Name vs. Price', fontweight='bold', fontsize=16)\n",
        "plt.xlabel('Type Name', fontweight='bold')\n",
        "plt.ylabel('Price', fontweight='bold')\n",
        "\n",
        "plt.xticks(rotation=45)\n",
        "sns.set(style='whitegrid')\n",
        "plt.show()\n"
      ],
      "metadata": {
        "colab": {
          "base_uri": "https://localhost:8080/",
          "height": 574
        },
        "id": "8TGNrm-MCrGe",
        "outputId": "9e18b990-8b89-411c-e26b-6a6461b68930"
      },
      "execution_count": 47,
      "outputs": [
        {
          "output_type": "display_data",
          "data": {
            "text/plain": [
              "<Figure size 640x480 with 1 Axes>"
            ],
            "image/png": "[encoded data removed]"
          },
          "metadata": {}
        }
      ]
    },
    {
      "cell_type": "code",
      "source": [
        "df['ScreenResolution'].value_counts()"
      ],
      "metadata": {
        "id": "RshbxxZfEKiO",
        "colab": {
          "base_uri": "https://localhost:8080/"
        },
        "outputId": "c548885e-4f82-4754-8d3c-02b646d90bad"
      },
      "execution_count": 14,
      "outputs": [
        {
          "output_type": "execute_result",
          "data": {
            "text/plain": [
              "Full HD 1920x1080                                507\n",
              "1366x768                                         281\n",
              "IPS Panel Full HD 1920x1080                      230\n",
              "IPS Panel Full HD / Touchscreen 1920x1080         53\n",
              "Full HD / Touchscreen 1920x1080                   47\n",
              "1600x900                                          23\n",
              "Touchscreen 1366x768                              16\n",
              "Quad HD+ / Touchscreen 3200x1800                  15\n",
              "IPS Panel 4K Ultra HD 3840x2160                   12\n",
              "IPS Panel 4K Ultra HD / Touchscreen 3840x2160     11\n",
              "4K Ultra HD / Touchscreen 3840x2160               10\n",
              "4K Ultra HD 3840x2160                              7\n",
              "Touchscreen 2560x1440                              7\n",
              "IPS Panel 1366x768                                 7\n",
              "IPS Panel Quad HD+ / Touchscreen 3200x1800         6\n",
              "IPS Panel Retina Display 2560x1600                 6\n",
              "IPS Panel Retina Display 2304x1440                 6\n",
              "Touchscreen 2256x1504                              6\n",
              "IPS Panel Touchscreen 2560x1440                    5\n",
              "IPS Panel Retina Display 2880x1800                 4\n",
              "IPS Panel Touchscreen 1920x1200                    4\n",
              "1440x900                                           4\n",
              "IPS Panel 2560x1440                                4\n",
              "IPS Panel Quad HD+ 2560x1440                       3\n",
              "Quad HD+ 3200x1800                                 3\n",
              "1920x1080                                          3\n",
              "Touchscreen 2400x1600                              3\n",
              "2560x1440                                          3\n",
              "IPS Panel Touchscreen 1366x768                     3\n",
              "IPS Panel Touchscreen / 4K Ultra HD 3840x2160      2\n",
              "IPS Panel Full HD 2160x1440                        2\n",
              "IPS Panel Quad HD+ 3200x1800                       2\n",
              "IPS Panel Retina Display 2736x1824                 1\n",
              "IPS Panel Full HD 1920x1200                        1\n",
              "IPS Panel Full HD 2560x1440                        1\n",
              "IPS Panel Full HD 1366x768                         1\n",
              "Touchscreen / Full HD 1920x1080                    1\n",
              "Touchscreen / Quad HD+ 3200x1800                   1\n",
              "Touchscreen / 4K Ultra HD 3840x2160                1\n",
              "IPS Panel Touchscreen 2400x1600                    1\n",
              "Name: ScreenResolution, dtype: int64"
            ]
          },
          "metadata": {},
          "execution_count": 14
        }
      ]
    },
    {
      "cell_type": "code",
      "source": [
        "df['Touchscreen'] = df['ScreenResolution'].str.contains('Touchscreen').astype(int)"
      ],
      "metadata": {
        "id": "xkHrFDQstuDR"
      },
      "execution_count": 15,
      "outputs": []
    },
    {
      "cell_type": "code",
      "source": [
        "df.sample(3)"
      ],
      "metadata": {
        "colab": {
          "base_uri": "https://localhost:8080/",
          "height": 186
        },
        "id": "YFP6OpFNt3xt",
        "outputId": "dc9422c7-65cc-424c-ccbd-64cafb6def41"
      },
      "execution_count": 16,
      "outputs": [
        {
          "output_type": "execute_result",
          "data": {
            "text/plain": [
              "     Company   TypeName  Inches             ScreenResolution  \\\n",
              "395       HP  Ultrabook    15.6            Full HD 1920x1080   \n",
              "558       HP   Notebook    15.6  IPS Panel Full HD 1920x1080   \n",
              "1039      HP   Notebook    14.0            Full HD 1920x1080   \n",
              "\n",
              "                                  Cpu  Ram     Memory                    Gpu  \\\n",
              "395           AMD A9-Series 9420 3GHz    4  256GB SSD         AMD Radeon 520   \n",
              "558   AMD A10-Series A10-9620P 2.5GHz    6  128GB SSD         AMD Radeon 530   \n",
              "1039       Intel Core i5 7200U 2.5GHz    8  256GB SSD  Intel HD Graphics 620   \n",
              "\n",
              "           OpSys  Weight       Price  Touchscreen  \n",
              "395   Windows 10    1.91  26586.7200            0  \n",
              "558   Windows 10    1.91  30310.9920            0  \n",
              "1039  Windows 10    1.64  53839.9728            0  "
            ],
            "text/html": [
              "\n",
              "  <div id=\"df-e043f12e-c36f-4882-86c0-ea515283d433\">\n",
              "    <div class=\"colab-df-container\">\n",
              "      <div>\n",
              "<style scoped>\n",
              "    .dataframe tbody tr th:only-of-type {\n",
              "        vertical-align: middle;\n",
              "    }\n",
              "\n",
              "    .dataframe tbody tr th {\n",
              "        vertical-align: top;\n",
              "    }\n",
              "\n",
              "    .dataframe thead th {\n",
              "        text-align: right;\n",
              "    }\n",
              "</style>\n",
              "<table border=\"1\" class=\"dataframe\">\n",
              "  <thead>\n",
              "    <tr style=\"text-align: right;\">\n",
              "      <th></th>\n",
              "      <th>Company</th>\n",
              "      <th>TypeName</th>\n",
              "      <th>Inches</th>\n",
              "      <th>ScreenResolution</th>\n",
              "      <th>Cpu</th>\n",
              "      <th>Ram</th>\n",
              "      <th>Memory</th>\n",
              "      <th>Gpu</th>\n",
              "      <th>OpSys</th>\n",
              "      <th>Weight</th>\n",
              "      <th>Price</th>\n",
              "      <th>Touchscreen</th>\n",
              "    </tr>\n",
              "  </thead>\n",
              "  <tbody>\n",
              "    <tr>\n",
              "      <th>395</th>\n",
              "      <td>HP</td>\n",
              "      <td>Ultrabook</td>\n",
              "      <td>15.6</td>\n",
              "      <td>Full HD 1920x1080</td>\n",
              "      <td>AMD A9-Series 9420 3GHz</td>\n",
              "      <td>4</td>\n",
              "      <td>256GB SSD</td>\n",
              "      <td>AMD Radeon 520</td>\n",
              "      <td>Windows 10</td>\n",
              "      <td>1.91</td>\n",
              "      <td>26586.7200</td>\n",
              "      <td>0</td>\n",
              "    </tr>\n",
              "    <tr>\n",
              "      <th>558</th>\n",
              "      <td>HP</td>\n",
              "      <td>Notebook</td>\n",
              "      <td>15.6</td>\n",
              "      <td>IPS Panel Full HD 1920x1080</td>\n",
              "      <td>AMD A10-Series A10-9620P 2.5GHz</td>\n",
              "      <td>6</td>\n",
              "      <td>128GB SSD</td>\n",
              "      <td>AMD Radeon 530</td>\n",
              "      <td>Windows 10</td>\n",
              "      <td>1.91</td>\n",
              "      <td>30310.9920</td>\n",
              "      <td>0</td>\n",
              "    </tr>\n",
              "    <tr>\n",
              "      <th>1039</th>\n",
              "      <td>HP</td>\n",
              "      <td>Notebook</td>\n",
              "      <td>14.0</td>\n",
              "      <td>Full HD 1920x1080</td>\n",
              "      <td>Intel Core i5 7200U 2.5GHz</td>\n",
              "      <td>8</td>\n",
              "      <td>256GB SSD</td>\n",
              "      <td>Intel HD Graphics 620</td>\n",
              "      <td>Windows 10</td>\n",
              "      <td>1.64</td>\n",
              "      <td>53839.9728</td>\n",
              "      <td>0</td>\n",
              "    </tr>\n",
              "  </tbody>\n",
              "</table>\n",
              "</div>\n",
              "      <button class=\"colab-df-convert\" onclick=\"convertToInteractive('df-e043f12e-c36f-4882-86c0-ea515283d433')\"\n",
              "              title=\"Convert this dataframe to an interactive table.\"\n",
              "              style=\"display:none;\">\n",
              "        \n",
              "  <svg xmlns=\"http://www.w3.org/2000/svg\" height=\"24px\"viewBox=\"0 0 24 24\"\n",
              "       width=\"24px\">\n",
              "    <path d=\"M0 0h24v24H0V0z\" fill=\"none\"/>\n",
              "    <path d=\"M18.56 5.44l.94 2.06.94-2.06 2.06-.94-2.06-.94-.94-2.06-.94 2.06-2.06.94zm-11 1L8.5 8.5l.94-2.06 2.06-.94-2.06-.94L8.5 2.5l-.94 2.06-2.06.94zm10 10l.94 2.06.94-2.06 2.06-.94-2.06-.94-.94-2.06-.94 2.06-2.06.94z\"/><path d=\"M17.41 7.96l-1.37-1.37c-.4-.4-.92-.59-1.43-.59-.52 0-1.04.2-1.43.59L10.3 9.45l-7.72 7.72c-.78.78-.78 2.05 0 2.83L4 21.41c.39.39.9.59 1.41.59.51 0 1.02-.2 1.41-.59l7.78-7.78 2.81-2.81c.8-.78.8-2.07 0-2.86zM5.41 20L4 18.59l7.72-7.72 1.47 1.35L5.41 20z\"/>\n",
              "  </svg>\n",
              "      </button>\n",
              "      \n",
              "  <style>\n",
              "    .colab-df-container {\n",
              "      display:flex;\n",
              "      flex-wrap:wrap;\n",
              "      gap: 12px;\n",
              "    }\n",
              "\n",
              "    .colab-df-convert {\n",
              "      background-color: #E8F0FE;\n",
              "      border: none;\n",
              "      border-radius: 50%;\n",
              "      cursor: pointer;\n",
              "      display: none;\n",
              "      fill: #1967D2;\n",
              "      height: 32px;\n",
              "      padding: 0 0 0 0;\n",
              "      width: 32px;\n",
              "    }\n",
              "\n",
              "    .colab-df-convert:hover {\n",
              "      background-color: #E2EBFA;\n",
              "      box-shadow: 0px 1px 2px rgba(60, 64, 67, 0.3), 0px 1px 3px 1px rgba(60, 64, 67, 0.15);\n",
              "      fill: #174EA6;\n",
              "    }\n",
              "\n",
              "    [theme=dark] .colab-df-convert {\n",
              "      background-color: #3B4455;\n",
              "      fill: #D2E3FC;\n",
              "    }\n",
              "\n",
              "    [theme=dark] .colab-df-convert:hover {\n",
              "      background-color: #434B5C;\n",
              "      box-shadow: 0px 1px 3px 1px rgba(0, 0, 0, 0.15);\n",
              "      filter: drop-shadow(0px 1px 2px rgba(0, 0, 0, 0.3));\n",
              "      fill: #FFFFFF;\n",
              "    }\n",
              "  </style>\n",
              "\n",
              "      <script>\n",
              "        const buttonEl =\n",
              "          document.querySelector('#df-e043f12e-c36f-4882-86c0-ea515283d433 button.colab-df-convert');\n",
              "        buttonEl.style.display =\n",
              "          google.colab.kernel.accessAllowed ? 'block' : 'none';\n",
              "\n",
              "        async function convertToInteractive(key) {\n",
              "          const element = document.querySelector('#df-e043f12e-c36f-4882-86c0-ea515283d433');\n",
              "          const dataTable =\n",
              "            await google.colab.kernel.invokeFunction('convertToInteractive',\n",
              "                                                     [key], {});\n",
              "          if (!dataTable) return;\n",
              "\n",
              "          const docLinkHtml = 'Like what you see? Visit the ' +\n",
              "            '<a target=\"_blank\" href=https://colab.research.google.com/notebooks/data_table.ipynb>data table notebook</a>'\n",
              "            + ' to learn more about interactive tables.';\n",
              "          element.innerHTML = '';\n",
              "          dataTable['output_type'] = 'display_data';\n",
              "          await google.colab.output.renderOutput(dataTable, element);\n",
              "          const docLink = document.createElement('div');\n",
              "          docLink.innerHTML = docLinkHtml;\n",
              "          element.appendChild(docLink);\n",
              "        }\n",
              "      </script>\n",
              "    </div>\n",
              "  </div>\n",
              "  "
            ]
          },
          "metadata": {},
          "execution_count": 16
        }
      ]
    },
    {
      "cell_type": "code",
      "source": [
        "sns.countplot(x=df['Touchscreen'], color='#E4F80C')\n",
        "\n",
        "plt.title('Touchscreen Counts', fontweight='bold', fontsize=16)\n",
        "plt.xlabel('Touchscreen', fontweight='bold')\n",
        "plt.ylabel('Counts', fontweight='bold')\n",
        "sns.set(style='whitegrid')\n",
        "plt.xticks([0, 1], ['No', 'Yes'])\n",
        "\n",
        "plt.show()"
      ],
      "metadata": {
        "colab": {
          "base_uri": "https://localhost:8080/",
          "height": 482
        },
        "id": "fTVia8Ztt5Oa",
        "outputId": "499ebba8-7277-44ba-81b1-70de8d7412c5"
      },
      "execution_count": 51,
      "outputs": [
        {
          "output_type": "display_data",
          "data": {
            "text/plain": [
              "<Figure size 640x480 with 1 Axes>"
            ],
            "image/png": "[encoded data removed]"
          },
          "metadata": {}
        }
      ]
    },
    {
      "cell_type": "code",
      "source": [
        "df['Ips'] = df['ScreenResolution'].str.contains('IPS').astype(int)"
      ],
      "metadata": {
        "id": "5KEu3iQLuMv-"
      },
      "execution_count": 18,
      "outputs": []
    },
    {
      "cell_type": "code",
      "source": [
        "df.sample(5)"
      ],
      "metadata": {
        "colab": {
          "base_uri": "https://localhost:8080/",
          "height": 316
        },
        "id": "DEaIdzL1uupV",
        "outputId": "8b83ce94-96f0-40af-d157-f061a1cd3861"
      },
      "execution_count": 19,
      "outputs": [
        {
          "output_type": "execute_result",
          "data": {
            "text/plain": [
              "    Company   TypeName  Inches     ScreenResolution  \\\n",
              "424    Dell     Gaming    17.3  IPS Panel 2560x1440   \n",
              "279  Lenovo   Notebook    17.3    Full HD 1920x1080   \n",
              "8      Asus  Ultrabook    14.0    Full HD 1920x1080   \n",
              "545      HP   Notebook    15.6    Full HD 1920x1080   \n",
              "635    Asus   Notebook    15.6    Full HD 1920x1080   \n",
              "\n",
              "                             Cpu  Ram                Memory  \\\n",
              "424  Intel Core i7 7820HK 2.9GHz   16  256GB SSD +  1TB HDD   \n",
              "279   Intel Core i7 8550U 1.8GHz    8               2TB HDD   \n",
              "8     Intel Core i7 8550U 1.8GHz   16             512GB SSD   \n",
              "545   Intel Core i3 7100U 2.4GHz    4             128GB SSD   \n",
              "635  Intel Core i5 7300HQ 2.5GHz    8               1TB HDD   \n",
              "\n",
              "                         Gpu       OpSys  Weight        Price  Touchscreen  \\\n",
              "424  Nvidia GeForce GTX 1070  Windows 10    4.42  149130.7200            0   \n",
              "279     Nvidia GeForce MX150       No OS    2.80   45234.7200            0   \n",
              "8       Nvidia GeForce MX150  Windows 10    1.30   79653.6000            0   \n",
              "545    Intel HD Graphics 620  Windows 10    2.10   37589.0400            0   \n",
              "635  Nvidia GeForce GTX 1050  Windows 10    1.99   48304.7136            0   \n",
              "\n",
              "     Ips  \n",
              "424    1  \n",
              "279    0  \n",
              "8      0  \n",
              "545    0  \n",
              "635    0  "
            ],
            "text/html": [
              "\n",
              "  <div id=\"df-b6acd4ff-d123-4108-9ba1-7346cf60945b\">\n",
              "    <div class=\"colab-df-container\">\n",
              "      <div>\n",
              "<style scoped>\n",
              "    .dataframe tbody tr th:only-of-type {\n",
              "        vertical-align: middle;\n",
              "    }\n",
              "\n",
              "    .dataframe tbody tr th {\n",
              "        vertical-align: top;\n",
              "    }\n",
              "\n",
              "    .dataframe thead th {\n",
              "        text-align: right;\n",
              "    }\n",
              "</style>\n",
              "<table border=\"1\" class=\"dataframe\">\n",
              "  <thead>\n",
              "    <tr style=\"text-align: right;\">\n",
              "      <th></th>\n",
              "      <th>Company</th>\n",
              "      <th>TypeName</th>\n",
              "      <th>Inches</th>\n",
              "      <th>ScreenResolution</th>\n",
              "      <th>Cpu</th>\n",
              "      <th>Ram</th>\n",
              "      <th>Memory</th>\n",
              "      <th>Gpu</th>\n",
              "      <th>OpSys</th>\n",
              "      <th>Weight</th>\n",
              "      <th>Price</th>\n",
              "      <th>Touchscreen</th>\n",
              "      <th>Ips</th>\n",
              "    </tr>\n",
              "  </thead>\n",
              "  <tbody>\n",
              "    <tr>\n",
              "      <th>424</th>\n",
              "      <td>Dell</td>\n",
              "      <td>Gaming</td>\n",
              "      <td>17.3</td>\n",
              "      <td>IPS Panel 2560x1440</td>\n",
              "      <td>Intel Core i7 7820HK 2.9GHz</td>\n",
              "      <td>16</td>\n",
              "      <td>256GB SSD +  1TB HDD</td>\n",
              "      <td>Nvidia GeForce GTX 1070</td>\n",
              "      <td>Windows 10</td>\n",
              "      <td>4.42</td>\n",
              "      <td>149130.7200</td>\n",
              "      <td>0</td>\n",
              "      <td>1</td>\n",
              "    </tr>\n",
              "    <tr>\n",
              "      <th>279</th>\n",
              "      <td>Lenovo</td>\n",
              "      <td>Notebook</td>\n",
              "      <td>17.3</td>\n",
              "      <td>Full HD 1920x1080</td>\n",
              "      <td>Intel Core i7 8550U 1.8GHz</td>\n",
              "      <td>8</td>\n",
              "      <td>2TB HDD</td>\n",
              "      <td>Nvidia GeForce MX150</td>\n",
              "      <td>No OS</td>\n",
              "      <td>2.80</td>\n",
              "      <td>45234.7200</td>\n",
              "      <td>0</td>\n",
              "      <td>0</td>\n",
              "    </tr>\n",
              "    <tr>\n",
              "      <th>8</th>\n",
              "      <td>Asus</td>\n",
              "      <td>Ultrabook</td>\n",
              "      <td>14.0</td>\n",
              "      <td>Full HD 1920x1080</td>\n",
              "      <td>Intel Core i7 8550U 1.8GHz</td>\n",
              "      <td>16</td>\n",
              "      <td>512GB SSD</td>\n",
              "      <td>Nvidia GeForce MX150</td>\n",
              "      <td>Windows 10</td>\n",
              "      <td>1.30</td>\n",
              "      <td>79653.6000</td>\n",
              "      <td>0</td>\n",
              "      <td>0</td>\n",
              "    </tr>\n",
              "    <tr>\n",
              "      <th>545</th>\n",
              "      <td>HP</td>\n",
              "      <td>Notebook</td>\n",
              "      <td>15.6</td>\n",
              "      <td>Full HD 1920x1080</td>\n",
              "      <td>Intel Core i3 7100U 2.4GHz</td>\n",
              "      <td>4</td>\n",
              "      <td>128GB SSD</td>\n",
              "      <td>Intel HD Graphics 620</td>\n",
              "      <td>Windows 10</td>\n",
              "      <td>2.10</td>\n",
              "      <td>37589.0400</td>\n",
              "      <td>0</td>\n",
              "      <td>0</td>\n",
              "    </tr>\n",
              "    <tr>\n",
              "      <th>635</th>\n",
              "      <td>Asus</td>\n",
              "      <td>Notebook</td>\n",
              "      <td>15.6</td>\n",
              "      <td>Full HD 1920x1080</td>\n",
              "      <td>Intel Core i5 7300HQ 2.5GHz</td>\n",
              "      <td>8</td>\n",
              "      <td>1TB HDD</td>\n",
              "      <td>Nvidia GeForce GTX 1050</td>\n",
              "      <td>Windows 10</td>\n",
              "      <td>1.99</td>\n",
              "      <td>48304.7136</td>\n",
              "      <td>0</td>\n",
              "      <td>0</td>\n",
              "    </tr>\n",
              "  </tbody>\n",
              "</table>\n",
              "</div>\n",
              "      <button class=\"colab-df-convert\" onclick=\"convertToInteractive('df-b6acd4ff-d123-4108-9ba1-7346cf60945b')\"\n",
              "              title=\"Convert this dataframe to an interactive table.\"\n",
              "              style=\"display:none;\">\n",
              "        \n",
              "  <svg xmlns=\"http://www.w3.org/2000/svg\" height=\"24px\"viewBox=\"0 0 24 24\"\n",
              "       width=\"24px\">\n",
              "    <path d=\"M0 0h24v24H0V0z\" fill=\"none\"/>\n",
              "    <path d=\"M18.56 5.44l.94 2.06.94-2.06 2.06-.94-2.06-.94-.94-2.06-.94 2.06-2.06.94zm-11 1L8.5 8.5l.94-2.06 2.06-.94-2.06-.94L8.5 2.5l-.94 2.06-2.06.94zm10 10l.94 2.06.94-2.06 2.06-.94-2.06-.94-.94-2.06-.94 2.06-2.06.94z\"/><path d=\"M17.41 7.96l-1.37-1.37c-.4-.4-.92-.59-1.43-.59-.52 0-1.04.2-1.43.59L10.3 9.45l-7.72 7.72c-.78.78-.78 2.05 0 2.83L4 21.41c.39.39.9.59 1.41.59.51 0 1.02-.2 1.41-.59l7.78-7.78 2.81-2.81c.8-.78.8-2.07 0-2.86zM5.41 20L4 18.59l7.72-7.72 1.47 1.35L5.41 20z\"/>\n",
              "  </svg>\n",
              "      </button>\n",
              "      \n",
              "  <style>\n",
              "    .colab-df-container {\n",
              "      display:flex;\n",
              "      flex-wrap:wrap;\n",
              "      gap: 12px;\n",
              "    }\n",
              "\n",
              "    .colab-df-convert {\n",
              "      background-color: #E8F0FE;\n",
              "      border: none;\n",
              "      border-radius: 50%;\n",
              "      cursor: pointer;\n",
              "      display: none;\n",
              "      fill: #1967D2;\n",
              "      height: 32px;\n",
              "      padding: 0 0 0 0;\n",
              "      width: 32px;\n",
              "    }\n",
              "\n",
              "    .colab-df-convert:hover {\n",
              "      background-color: #E2EBFA;\n",
              "      box-shadow: 0px 1px 2px rgba(60, 64, 67, 0.3), 0px 1px 3px 1px rgba(60, 64, 67, 0.15);\n",
              "      fill: #174EA6;\n",
              "    }\n",
              "\n",
              "    [theme=dark] .colab-df-convert {\n",
              "      background-color: #3B4455;\n",
              "      fill: #D2E3FC;\n",
              "    }\n",
              "\n",
              "    [theme=dark] .colab-df-convert:hover {\n",
              "      background-color: #434B5C;\n",
              "      box-shadow: 0px 1px 3px 1px rgba(0, 0, 0, 0.15);\n",
              "      filter: drop-shadow(0px 1px 2px rgba(0, 0, 0, 0.3));\n",
              "      fill: #FFFFFF;\n",
              "    }\n",
              "  </style>\n",
              "\n",
              "      <script>\n",
              "        const buttonEl =\n",
              "          document.querySelector('#df-b6acd4ff-d123-4108-9ba1-7346cf60945b button.colab-df-convert');\n",
              "        buttonEl.style.display =\n",
              "          google.colab.kernel.accessAllowed ? 'block' : 'none';\n",
              "\n",
              "        async function convertToInteractive(key) {\n",
              "          const element = document.querySelector('#df-b6acd4ff-d123-4108-9ba1-7346cf60945b');\n",
              "          const dataTable =\n",
              "            await google.colab.kernel.invokeFunction('convertToInteractive',\n",
              "                                                     [key], {});\n",
              "          if (!dataTable) return;\n",
              "\n",
              "          const docLinkHtml = 'Like what you see? Visit the ' +\n",
              "            '<a target=\"_blank\" href=https://colab.research.google.com/notebooks/data_table.ipynb>data table notebook</a>'\n",
              "            + ' to learn more about interactive tables.';\n",
              "          element.innerHTML = '';\n",
              "          dataTable['output_type'] = 'display_data';\n",
              "          await google.colab.output.renderOutput(dataTable, element);\n",
              "          const docLink = document.createElement('div');\n",
              "          docLink.innerHTML = docLinkHtml;\n",
              "          element.appendChild(docLink);\n",
              "        }\n",
              "      </script>\n",
              "    </div>\n",
              "  </div>\n",
              "  "
            ]
          },
          "metadata": {},
          "execution_count": 19
        }
      ]
    },
    {
      "cell_type": "code",
      "source": [
        "sns.countplot(x=df['Ips'], color='#D9720B')\n",
        "\n",
        "plt.title('IPS Counts', fontweight='bold', fontsize=16)\n",
        "plt.xlabel('IPS', fontweight='bold')\n",
        "plt.ylabel('Counts', fontweight='bold')\n",
        "sns.set(style='whitegrid')\n",
        "plt.xticks([0, 1], ['No', 'Yes'])\n",
        "\n",
        "plt.show()"
      ],
      "metadata": {
        "colab": {
          "base_uri": "https://localhost:8080/",
          "height": 482
        },
        "id": "zyrphY61uv9r",
        "outputId": "c212b51d-c9e1-46e7-ad41-8b60119ef35b"
      },
      "execution_count": 52,
      "outputs": [
        {
          "output_type": "display_data",
          "data": {
            "text/plain": [
              "<Figure size 640x480 with 1 Axes>"
            ],
            "image/png": "[encoded data removed]"
          },
          "metadata": {}
        }
      ]
    },
    {
      "cell_type": "code",
      "source": [
        "df[['X_res', 'Y_res']] = df['ScreenResolution'].str.split('x', n=1, expand=True)"
      ],
      "metadata": {
        "id": "evOJenXbvg-M"
      },
      "execution_count": 21,
      "outputs": []
    },
    {
      "cell_type": "code",
      "source": [
        "df.sample(5)"
      ],
      "metadata": {
        "colab": {
          "base_uri": "https://localhost:8080/",
          "height": 384
        },
        "id": "UztmpCrmv9fQ",
        "outputId": "6848d307-c54a-4738-d6a3-95d4b793ab47"
      },
      "execution_count": 22,
      "outputs": [
        {
          "output_type": "execute_result",
          "data": {
            "text/plain": [
              "     Company            TypeName  Inches  \\\n",
              "1101    Dell           Ultrabook    12.5   \n",
              "420   Lenovo  2 in 1 Convertible    15.6   \n",
              "1175    Asus            Notebook    14.0   \n",
              "803     Dell            Notebook    15.6   \n",
              "642   Lenovo           Ultrabook    14.0   \n",
              "\n",
              "                                   ScreenResolution  \\\n",
              "1101                                       1366x768   \n",
              "420   IPS Panel 4K Ultra HD / Touchscreen 3840x2160   \n",
              "1175                              Full HD 1920x1080   \n",
              "803             4K Ultra HD / Touchscreen 3840x2160   \n",
              "642                     IPS Panel Full HD 1920x1080   \n",
              "\n",
              "                              Cpu  Ram     Memory                      Gpu  \\\n",
              "1101   Intel Core i3 6100U 2.3GHz    4  128GB SSD    Intel HD Graphics 520   \n",
              "420   Intel Core i7 7700HQ 2.8GHz   16  512GB SSD  Nvidia GeForce GTX 1050   \n",
              "1175   Intel Core i3 7100U 2.4GHz    4  256GB SSD    Intel HD Graphics 620   \n",
              "803   Intel Core i5 7300HQ 2.5GHz    8  256GB SSD  Nvidia GeForce GTX 1050   \n",
              "642    Intel Core i7 7500U 2.7GHz   16  512GB SSD    Intel HD Graphics 620   \n",
              "\n",
              "           OpSys  Weight        Price  Touchscreen  Ips  \\\n",
              "1101   Windows 7    1.50   62176.1616            0    0   \n",
              "420   Windows 10    2.00  101178.7200            1    1   \n",
              "1175  Windows 10    2.00   40972.3200            0    0   \n",
              "803   Windows 10    2.06   93186.7200            1    0   \n",
              "642   Windows 10    1.14  130536.0000            0    1   \n",
              "\n",
              "                                         X_res Y_res  \n",
              "1101                                      1366   768  \n",
              "420   IPS Panel 4K Ultra HD / Touchscreen 3840  2160  \n",
              "1175                              Full HD 1920  1080  \n",
              "803             4K Ultra HD / Touchscreen 3840  2160  \n",
              "642                     IPS Panel Full HD 1920  1080  "
            ],
            "text/html": [
              "\n",
              "  <div id=\"df-7446e26e-1841-4a08-8d7c-a98325d2e3c0\">\n",
              "    <div class=\"colab-df-container\">\n",
              "      <div>\n",
              "<style scoped>\n",
              "    .dataframe tbody tr th:only-of-type {\n",
              "        vertical-align: middle;\n",
              "    }\n",
              "\n",
              "    .dataframe tbody tr th {\n",
              "        vertical-align: top;\n",
              "    }\n",
              "\n",
              "    .dataframe thead th {\n",
              "        text-align: right;\n",
              "    }\n",
              "</style>\n",
              "<table border=\"1\" class=\"dataframe\">\n",
              "  <thead>\n",
              "    <tr style=\"text-align: right;\">\n",
              "      <th></th>\n",
              "      <th>Company</th>\n",
              "      <th>TypeName</th>\n",
              "      <th>Inches</th>\n",
              "      <th>ScreenResolution</th>\n",
              "      <th>Cpu</th>\n",
              "      <th>Ram</th>\n",
              "      <th>Memory</th>\n",
              "      <th>Gpu</th>\n",
              "      <th>OpSys</th>\n",
              "      <th>Weight</th>\n",
              "      <th>Price</th>\n",
              "      <th>Touchscreen</th>\n",
              "      <th>Ips</th>\n",
              "      <th>X_res</th>\n",
              "      <th>Y_res</th>\n",
              "    </tr>\n",
              "  </thead>\n",
              "  <tbody>\n",
              "    <tr>\n",
              "      <th>1101</th>\n",
              "      <td>Dell</td>\n",
              "      <td>Ultrabook</td>\n",
              "      <td>12.5</td>\n",
              "      <td>1366x768</td>\n",
              "      <td>Intel Core i3 6100U 2.3GHz</td>\n",
              "      <td>4</td>\n",
              "      <td>128GB SSD</td>\n",
              "      <td>Intel HD Graphics 520</td>\n",
              "      <td>Windows 7</td>\n",
              "      <td>1.50</td>\n",
              "      <td>62176.1616</td>\n",
              "      <td>0</td>\n",
              "      <td>0</td>\n",
              "      <td>1366</td>\n",
              "      <td>768</td>\n",
              "    </tr>\n",
              "    <tr>\n",
              "      <th>420</th>\n",
              "      <td>Lenovo</td>\n",
              "      <td>2 in 1 Convertible</td>\n",
              "      <td>15.6</td>\n",
              "      <td>IPS Panel 4K Ultra HD / Touchscreen 3840x2160</td>\n",
              "      <td>Intel Core i7 7700HQ 2.8GHz</td>\n",
              "      <td>16</td>\n",
              "      <td>512GB SSD</td>\n",
              "      <td>Nvidia GeForce GTX 1050</td>\n",
              "      <td>Windows 10</td>\n",
              "      <td>2.00</td>\n",
              "      <td>101178.7200</td>\n",
              "      <td>1</td>\n",
              "      <td>1</td>\n",
              "      <td>IPS Panel 4K Ultra HD / Touchscreen 3840</td>\n",
              "      <td>2160</td>\n",
              "    </tr>\n",
              "    <tr>\n",
              "      <th>1175</th>\n",
              "      <td>Asus</td>\n",
              "      <td>Notebook</td>\n",
              "      <td>14.0</td>\n",
              "      <td>Full HD 1920x1080</td>\n",
              "      <td>Intel Core i3 7100U 2.4GHz</td>\n",
              "      <td>4</td>\n",
              "      <td>256GB SSD</td>\n",
              "      <td>Intel HD Graphics 620</td>\n",
              "      <td>Windows 10</td>\n",
              "      <td>2.00</td>\n",
              "      <td>40972.3200</td>\n",
              "      <td>0</td>\n",
              "      <td>0</td>\n",
              "      <td>Full HD 1920</td>\n",
              "      <td>1080</td>\n",
              "    </tr>\n",
              "    <tr>\n",
              "      <th>803</th>\n",
              "      <td>Dell</td>\n",
              "      <td>Notebook</td>\n",
              "      <td>15.6</td>\n",
              "      <td>4K Ultra HD / Touchscreen 3840x2160</td>\n",
              "      <td>Intel Core i5 7300HQ 2.5GHz</td>\n",
              "      <td>8</td>\n",
              "      <td>256GB SSD</td>\n",
              "      <td>Nvidia GeForce GTX 1050</td>\n",
              "      <td>Windows 10</td>\n",
              "      <td>2.06</td>\n",
              "      <td>93186.7200</td>\n",
              "      <td>1</td>\n",
              "      <td>0</td>\n",
              "      <td>4K Ultra HD / Touchscreen 3840</td>\n",
              "      <td>2160</td>\n",
              "    </tr>\n",
              "    <tr>\n",
              "      <th>642</th>\n",
              "      <td>Lenovo</td>\n",
              "      <td>Ultrabook</td>\n",
              "      <td>14.0</td>\n",
              "      <td>IPS Panel Full HD 1920x1080</td>\n",
              "      <td>Intel Core i7 7500U 2.7GHz</td>\n",
              "      <td>16</td>\n",
              "      <td>512GB SSD</td>\n",
              "      <td>Intel HD Graphics 620</td>\n",
              "      <td>Windows 10</td>\n",
              "      <td>1.14</td>\n",
              "      <td>130536.0000</td>\n",
              "      <td>0</td>\n",
              "      <td>1</td>\n",
              "      <td>IPS Panel Full HD 1920</td>\n",
              "      <td>1080</td>\n",
              "    </tr>\n",
              "  </tbody>\n",
              "</table>\n",
              "</div>\n",
              "      <button class=\"colab-df-convert\" onclick=\"convertToInteractive('df-7446e26e-1841-4a08-8d7c-a98325d2e3c0')\"\n",
              "              title=\"Convert this dataframe to an interactive table.\"\n",
              "              style=\"display:none;\">\n",
              "        \n",
              "  <svg xmlns=\"http://www.w3.org/2000/svg\" height=\"24px\"viewBox=\"0 0 24 24\"\n",
              "       width=\"24px\">\n",
              "    <path d=\"M0 0h24v24H0V0z\" fill=\"none\"/>\n",
              "    <path d=\"M18.56 5.44l.94 2.06.94-2.06 2.06-.94-2.06-.94-.94-2.06-.94 2.06-2.06.94zm-11 1L8.5 8.5l.94-2.06 2.06-.94-2.06-.94L8.5 2.5l-.94 2.06-2.06.94zm10 10l.94 2.06.94-2.06 2.06-.94-2.06-.94-.94-2.06-.94 2.06-2.06.94z\"/><path d=\"M17.41 7.96l-1.37-1.37c-.4-.4-.92-.59-1.43-.59-.52 0-1.04.2-1.43.59L10.3 9.45l-7.72 7.72c-.78.78-.78 2.05 0 2.83L4 21.41c.39.39.9.59 1.41.59.51 0 1.02-.2 1.41-.59l7.78-7.78 2.81-2.81c.8-.78.8-2.07 0-2.86zM5.41 20L4 18.59l7.72-7.72 1.47 1.35L5.41 20z\"/>\n",
              "  </svg>\n",
              "      </button>\n",
              "      \n",
              "  <style>\n",
              "    .colab-df-container {\n",
              "      display:flex;\n",
              "      flex-wrap:wrap;\n",
              "      gap: 12px;\n",
              "    }\n",
              "\n",
              "    .colab-df-convert {\n",
              "      background-color: #E8F0FE;\n",
              "      border: none;\n",
              "      border-radius: 50%;\n",
              "      cursor: pointer;\n",
              "      display: none;\n",
              "      fill: #1967D2;\n",
              "      height: 32px;\n",
              "      padding: 0 0 0 0;\n",
              "      width: 32px;\n",
              "    }\n",
              "\n",
              "    .colab-df-convert:hover {\n",
              "      background-color: #E2EBFA;\n",
              "      box-shadow: 0px 1px 2px rgba(60, 64, 67, 0.3), 0px 1px 3px 1px rgba(60, 64, 67, 0.15);\n",
              "      fill: #174EA6;\n",
              "    }\n",
              "\n",
              "    [theme=dark] .colab-df-convert {\n",
              "      background-color: #3B4455;\n",
              "      fill: #D2E3FC;\n",
              "    }\n",
              "\n",
              "    [theme=dark] .colab-df-convert:hover {\n",
              "      background-color: #434B5C;\n",
              "      box-shadow: 0px 1px 3px 1px rgba(0, 0, 0, 0.15);\n",
              "      filter: drop-shadow(0px 1px 2px rgba(0, 0, 0, 0.3));\n",
              "      fill: #FFFFFF;\n",
              "    }\n",
              "  </style>\n",
              "\n",
              "      <script>\n",
              "        const buttonEl =\n",
              "          document.querySelector('#df-7446e26e-1841-4a08-8d7c-a98325d2e3c0 button.colab-df-convert');\n",
              "        buttonEl.style.display =\n",
              "          google.colab.kernel.accessAllowed ? 'block' : 'none';\n",
              "\n",
              "        async function convertToInteractive(key) {\n",
              "          const element = document.querySelector('#df-7446e26e-1841-4a08-8d7c-a98325d2e3c0');\n",
              "          const dataTable =\n",
              "            await google.colab.kernel.invokeFunction('convertToInteractive',\n",
              "                                                     [key], {});\n",
              "          if (!dataTable) return;\n",
              "\n",
              "          const docLinkHtml = 'Like what you see? Visit the ' +\n",
              "            '<a target=\"_blank\" href=https://colab.research.google.com/notebooks/data_table.ipynb>data table notebook</a>'\n",
              "            + ' to learn more about interactive tables.';\n",
              "          element.innerHTML = '';\n",
              "          dataTable['output_type'] = 'display_data';\n",
              "          await google.colab.output.renderOutput(dataTable, element);\n",
              "          const docLink = document.createElement('div');\n",
              "          docLink.innerHTML = docLinkHtml;\n",
              "          element.appendChild(docLink);\n",
              "        }\n",
              "      </script>\n",
              "    </div>\n",
              "  </div>\n",
              "  "
            ]
          },
          "metadata": {},
          "execution_count": 22
        }
      ]
    },
    {
      "cell_type": "code",
      "source": [
        "df['X_res'] = df['X_res'].str.extract(r'(\\d+\\.?\\d+)')"
      ],
      "metadata": {
        "id": "Oum0oeEcv_eY"
      },
      "execution_count": 23,
      "outputs": []
    },
    {
      "cell_type": "code",
      "source": [
        "df['X_res'] = df['X_res'].astype('int')\n",
        "df['Y_res'] = df['Y_res'].astype('int')"
      ],
      "metadata": {
        "id": "zGJPN4dpwn5L"
      },
      "execution_count": 24,
      "outputs": []
    },
    {
      "cell_type": "code",
      "source": [
        "diagonal_resolution = (df['X_res']**2 + df['Y_res']**2)**0.5\n",
        "df['ppi'] = (diagonal_resolution / df['Inches']).astype(float)"
      ],
      "metadata": {
        "id": "POdvFbWzwvm2"
      },
      "execution_count": 25,
      "outputs": []
    },
    {
      "cell_type": "code",
      "source": [
        "df.sample(5)"
      ],
      "metadata": {
        "colab": {
          "base_uri": "https://localhost:8080/",
          "height": 418
        },
        "id": "uo-zahxmxWJT",
        "outputId": "1d0d2ab8-d1a4-4d42-c994-96b8b94e4038"
      },
      "execution_count": 26,
      "outputs": [
        {
          "output_type": "execute_result",
          "data": {
            "text/plain": [
              "     Company     TypeName  Inches                     ScreenResolution  \\\n",
              "1132    Asus     Notebook    14.0                             1366x768   \n",
              "324     Acer     Notebook    15.6                             1366x768   \n",
              "1000    Acer       Gaming    15.6          IPS Panel Full HD 1920x1080   \n",
              "800       HP  Workstation    15.6                    Full HD 1920x1080   \n",
              "196    Razer       Gaming    17.3  4K Ultra HD / Touchscreen 3840x2160   \n",
              "\n",
              "                                       Cpu  Ram                Memory  \\\n",
              "1132  Intel Celeron Dual Core N3350 1.1GHz    4    32GB Flash Storage   \n",
              "324            AMD A12-Series 9720P 2.7GHz    8             256GB SSD   \n",
              "1000           Intel Core i7 7700HQ 2.8GHz    8  128GB SSD +  1TB HDD   \n",
              "800            Intel Core i7 7700HQ 2.8GHz    8             256GB SSD   \n",
              "196            Intel Core i7 7820HK 2.9GHz   32               1TB SSD   \n",
              "\n",
              "                          Gpu       OpSys  Weight       Price  Touchscreen  \\\n",
              "1132    Intel HD Graphics 500  Windows 10    1.50   14811.840            0   \n",
              "324         AMD Radeon RX 540  Windows 10    2.20   35111.520            0   \n",
              "1000  Nvidia GeForce GTX 1050  Windows 10    2.70   67132.800            0   \n",
              "800       Nvidia Quadro M2200  Windows 10    3.14  110017.872            0   \n",
              "196   Nvidia GeForce GTX 1080  Windows 10    3.49  324954.720            1   \n",
              "\n",
              "      Ips  X_res  Y_res         ppi  \n",
              "1132    0   1366    768  111.935204  \n",
              "324     0   1366    768  100.454670  \n",
              "1000    1   1920   1080  141.211998  \n",
              "800     0   1920   1080  141.211998  \n",
              "196     0   3840   2160  254.671349  "
            ],
            "text/html": [
              "\n",
              "  <div id=\"df-debe5885-dcee-46ba-ba04-6127540bae40\">\n",
              "    <div class=\"colab-df-container\">\n",
              "      <div>\n",
              "<style scoped>\n",
              "    .dataframe tbody tr th:only-of-type {\n",
              "        vertical-align: middle;\n",
              "    }\n",
              "\n",
              "    .dataframe tbody tr th {\n",
              "        vertical-align: top;\n",
              "    }\n",
              "\n",
              "    .dataframe thead th {\n",
              "        text-align: right;\n",
              "    }\n",
              "</style>\n",
              "<table border=\"1\" class=\"dataframe\">\n",
              "  <thead>\n",
              "    <tr style=\"text-align: right;\">\n",
              "      <th></th>\n",
              "      <th>Company</th>\n",
              "      <th>TypeName</th>\n",
              "      <th>Inches</th>\n",
              "      <th>ScreenResolution</th>\n",
              "      <th>Cpu</th>\n",
              "      <th>Ram</th>\n",
              "      <th>Memory</th>\n",
              "      <th>Gpu</th>\n",
              "      <th>OpSys</th>\n",
              "      <th>Weight</th>\n",
              "      <th>Price</th>\n",
              "      <th>Touchscreen</th>\n",
              "      <th>Ips</th>\n",
              "      <th>X_res</th>\n",
              "      <th>Y_res</th>\n",
              "      <th>ppi</th>\n",
              "    </tr>\n",
              "  </thead>\n",
              "  <tbody>\n",
              "    <tr>\n",
              "      <th>1132</th>\n",
              "      <td>Asus</td>\n",
              "      <td>Notebook</td>\n",
              "      <td>14.0</td>\n",
              "      <td>1366x768</td>\n",
              "      <td>Intel Celeron Dual Core N3350 1.1GHz</td>\n",
              "      <td>4</td>\n",
              "      <td>32GB Flash Storage</td>\n",
              "      <td>Intel HD Graphics 500</td>\n",
              "      <td>Windows 10</td>\n",
              "      <td>1.50</td>\n",
              "      <td>14811.840</td>\n",
              "      <td>0</td>\n",
              "      <td>0</td>\n",
              "      <td>1366</td>\n",
              "      <td>768</td>\n",
              "      <td>111.935204</td>\n",
              "    </tr>\n",
              "    <tr>\n",
              "      <th>324</th>\n",
              "      <td>Acer</td>\n",
              "      <td>Notebook</td>\n",
              "      <td>15.6</td>\n",
              "      <td>1366x768</td>\n",
              "      <td>AMD A12-Series 9720P 2.7GHz</td>\n",
              "      <td>8</td>\n",
              "      <td>256GB SSD</td>\n",
              "      <td>AMD Radeon RX 540</td>\n",
              "      <td>Windows 10</td>\n",
              "      <td>2.20</td>\n",
              "      <td>35111.520</td>\n",
              "      <td>0</td>\n",
              "      <td>0</td>\n",
              "      <td>1366</td>\n",
              "      <td>768</td>\n",
              "      <td>100.454670</td>\n",
              "    </tr>\n",
              "    <tr>\n",
              "      <th>1000</th>\n",
              "      <td>Acer</td>\n",
              "      <td>Gaming</td>\n",
              "      <td>15.6</td>\n",
              "      <td>IPS Panel Full HD 1920x1080</td>\n",
              "      <td>Intel Core i7 7700HQ 2.8GHz</td>\n",
              "      <td>8</td>\n",
              "      <td>128GB SSD +  1TB HDD</td>\n",
              "      <td>Nvidia GeForce GTX 1050</td>\n",
              "      <td>Windows 10</td>\n",
              "      <td>2.70</td>\n",
              "      <td>67132.800</td>\n",
              "      <td>0</td>\n",
              "      <td>1</td>\n",
              "      <td>1920</td>\n",
              "      <td>1080</td>\n",
              "      <td>141.211998</td>\n",
              "    </tr>\n",
              "    <tr>\n",
              "      <th>800</th>\n",
              "      <td>HP</td>\n",
              "      <td>Workstation</td>\n",
              "      <td>15.6</td>\n",
              "      <td>Full HD 1920x1080</td>\n",
              "      <td>Intel Core i7 7700HQ 2.8GHz</td>\n",
              "      <td>8</td>\n",
              "      <td>256GB SSD</td>\n",
              "      <td>Nvidia Quadro M2200</td>\n",
              "      <td>Windows 10</td>\n",
              "      <td>3.14</td>\n",
              "      <td>110017.872</td>\n",
              "      <td>0</td>\n",
              "      <td>0</td>\n",
              "      <td>1920</td>\n",
              "      <td>1080</td>\n",
              "      <td>141.211998</td>\n",
              "    </tr>\n",
              "    <tr>\n",
              "      <th>196</th>\n",
              "      <td>Razer</td>\n",
              "      <td>Gaming</td>\n",
              "      <td>17.3</td>\n",
              "      <td>4K Ultra HD / Touchscreen 3840x2160</td>\n",
              "      <td>Intel Core i7 7820HK 2.9GHz</td>\n",
              "      <td>32</td>\n",
              "      <td>1TB SSD</td>\n",
              "      <td>Nvidia GeForce GTX 1080</td>\n",
              "      <td>Windows 10</td>\n",
              "      <td>3.49</td>\n",
              "      <td>324954.720</td>\n",
              "      <td>1</td>\n",
              "      <td>0</td>\n",
              "      <td>3840</td>\n",
              "      <td>2160</td>\n",
              "      <td>254.671349</td>\n",
              "    </tr>\n",
              "  </tbody>\n",
              "</table>\n",
              "</div>\n",
              "      <button class=\"colab-df-convert\" onclick=\"convertToInteractive('df-debe5885-dcee-46ba-ba04-6127540bae40')\"\n",
              "              title=\"Convert this dataframe to an interactive table.\"\n",
              "              style=\"display:none;\">\n",
              "        \n",
              "  <svg xmlns=\"http://www.w3.org/2000/svg\" height=\"24px\"viewBox=\"0 0 24 24\"\n",
              "       width=\"24px\">\n",
              "    <path d=\"M0 0h24v24H0V0z\" fill=\"none\"/>\n",
              "    <path d=\"M18.56 5.44l.94 2.06.94-2.06 2.06-.94-2.06-.94-.94-2.06-.94 2.06-2.06.94zm-11 1L8.5 8.5l.94-2.06 2.06-.94-2.06-.94L8.5 2.5l-.94 2.06-2.06.94zm10 10l.94 2.06.94-2.06 2.06-.94-2.06-.94-.94-2.06-.94 2.06-2.06.94z\"/><path d=\"M17.41 7.96l-1.37-1.37c-.4-.4-.92-.59-1.43-.59-.52 0-1.04.2-1.43.59L10.3 9.45l-7.72 7.72c-.78.78-.78 2.05 0 2.83L4 21.41c.39.39.9.59 1.41.59.51 0 1.02-.2 1.41-.59l7.78-7.78 2.81-2.81c.8-.78.8-2.07 0-2.86zM5.41 20L4 18.59l7.72-7.72 1.47 1.35L5.41 20z\"/>\n",
              "  </svg>\n",
              "      </button>\n",
              "      \n",
              "  <style>\n",
              "    .colab-df-container {\n",
              "      display:flex;\n",
              "      flex-wrap:wrap;\n",
              "      gap: 12px;\n",
              "    }\n",
              "\n",
              "    .colab-df-convert {\n",
              "      background-color: #E8F0FE;\n",
              "      border: none;\n",
              "      border-radius: 50%;\n",
              "      cursor: pointer;\n",
              "      display: none;\n",
              "      fill: #1967D2;\n",
              "      height: 32px;\n",
              "      padding: 0 0 0 0;\n",
              "      width: 32px;\n",
              "    }\n",
              "\n",
              "    .colab-df-convert:hover {\n",
              "      background-color: #E2EBFA;\n",
              "      box-shadow: 0px 1px 2px rgba(60, 64, 67, 0.3), 0px 1px 3px 1px rgba(60, 64, 67, 0.15);\n",
              "      fill: #174EA6;\n",
              "    }\n",
              "\n",
              "    [theme=dark] .colab-df-convert {\n",
              "      background-color: #3B4455;\n",
              "      fill: #D2E3FC;\n",
              "    }\n",
              "\n",
              "    [theme=dark] .colab-df-convert:hover {\n",
              "      background-color: #434B5C;\n",
              "      box-shadow: 0px 1px 3px 1px rgba(0, 0, 0, 0.15);\n",
              "      filter: drop-shadow(0px 1px 2px rgba(0, 0, 0, 0.3));\n",
              "      fill: #FFFFFF;\n",
              "    }\n",
              "  </style>\n",
              "\n",
              "      <script>\n",
              "        const buttonEl =\n",
              "          document.querySelector('#df-debe5885-dcee-46ba-ba04-6127540bae40 button.colab-df-convert');\n",
              "        buttonEl.style.display =\n",
              "          google.colab.kernel.accessAllowed ? 'block' : 'none';\n",
              "\n",
              "        async function convertToInteractive(key) {\n",
              "          const element = document.querySelector('#df-debe5885-dcee-46ba-ba04-6127540bae40');\n",
              "          const dataTable =\n",
              "            await google.colab.kernel.invokeFunction('convertToInteractive',\n",
              "                                                     [key], {});\n",
              "          if (!dataTable) return;\n",
              "\n",
              "          const docLinkHtml = 'Like what you see? Visit the ' +\n",
              "            '<a target=\"_blank\" href=https://colab.research.google.com/notebooks/data_table.ipynb>data table notebook</a>'\n",
              "            + ' to learn more about interactive tables.';\n",
              "          element.innerHTML = '';\n",
              "          dataTable['output_type'] = 'display_data';\n",
              "          await google.colab.output.renderOutput(dataTable, element);\n",
              "          const docLink = document.createElement('div');\n",
              "          docLink.innerHTML = docLinkHtml;\n",
              "          element.appendChild(docLink);\n",
              "        }\n",
              "      </script>\n",
              "    </div>\n",
              "  </div>\n",
              "  "
            ]
          },
          "metadata": {},
          "execution_count": 26
        }
      ]
    },
    {
      "cell_type": "code",
      "source": [
        "# Dropping Screen resolution column\n",
        "\n",
        "df.drop(columns=['ScreenResolution'],inplace=True)"
      ],
      "metadata": {
        "id": "SiR88q7GxXue"
      },
      "execution_count": 27,
      "outputs": []
    },
    {
      "cell_type": "code",
      "source": [
        "# Dropping both X_res and Y_res columns\n",
        "\n",
        "df.drop(columns=['Inches','X_res','Y_res'],inplace=True)"
      ],
      "metadata": {
        "id": "IOKeqxtWxkNy"
      },
      "execution_count": 28,
      "outputs": []
    },
    {
      "cell_type": "code",
      "source": [
        "df.head(3)"
      ],
      "metadata": {
        "colab": {
          "base_uri": "https://localhost:8080/",
          "height": 142
        },
        "id": "yOlP_36PxvfL",
        "outputId": "7e0a00ab-a719-459f-99be-b5a849ab5de3"
      },
      "execution_count": 29,
      "outputs": [
        {
          "output_type": "execute_result",
          "data": {
            "text/plain": [
              "  Company   TypeName                         Cpu  Ram               Memory  \\\n",
              "0   Apple  Ultrabook        Intel Core i5 2.3GHz    8            128GB SSD   \n",
              "1   Apple  Ultrabook        Intel Core i5 1.8GHz    8  128GB Flash Storage   \n",
              "2      HP   Notebook  Intel Core i5 7200U 2.5GHz    8            256GB SSD   \n",
              "\n",
              "                            Gpu  OpSys  Weight       Price  Touchscreen  Ips  \\\n",
              "0  Intel Iris Plus Graphics 640  macOS    1.37  71378.6832            0    1   \n",
              "1        Intel HD Graphics 6000  macOS    1.34  47895.5232            0    0   \n",
              "2         Intel HD Graphics 620  No OS    1.86  30636.0000            0    0   \n",
              "\n",
              "          ppi  \n",
              "0  226.983005  \n",
              "1  127.677940  \n",
              "2  141.211998  "
            ],
            "text/html": [
              "\n",
              "  <div id=\"df-d1bab68f-d528-4efe-a740-35141cf17ee5\">\n",
              "    <div class=\"colab-df-container\">\n",
              "      <div>\n",
              "<style scoped>\n",
              "    .dataframe tbody tr th:only-of-type {\n",
              "        vertical-align: middle;\n",
              "    }\n",
              "\n",
              "    .dataframe tbody tr th {\n",
              "        vertical-align: top;\n",
              "    }\n",
              "\n",
              "    .dataframe thead th {\n",
              "        text-align: right;\n",
              "    }\n",
              "</style>\n",
              "<table border=\"1\" class=\"dataframe\">\n",
              "  <thead>\n",
              "    <tr style=\"text-align: right;\">\n",
              "      <th></th>\n",
              "      <th>Company</th>\n",
              "      <th>TypeName</th>\n",
              "      <th>Cpu</th>\n",
              "      <th>Ram</th>\n",
              "      <th>Memory</th>\n",
              "      <th>Gpu</th>\n",
              "      <th>OpSys</th>\n",
              "      <th>Weight</th>\n",
              "      <th>Price</th>\n",
              "      <th>Touchscreen</th>\n",
              "      <th>Ips</th>\n",
              "      <th>ppi</th>\n",
              "    </tr>\n",
              "  </thead>\n",
              "  <tbody>\n",
              "    <tr>\n",
              "      <th>0</th>\n",
              "      <td>Apple</td>\n",
              "      <td>Ultrabook</td>\n",
              "      <td>Intel Core i5 2.3GHz</td>\n",
              "      <td>8</td>\n",
              "      <td>128GB SSD</td>\n",
              "      <td>Intel Iris Plus Graphics 640</td>\n",
              "      <td>macOS</td>\n",
              "      <td>1.37</td>\n",
              "      <td>71378.6832</td>\n",
              "      <td>0</td>\n",
              "      <td>1</td>\n",
              "      <td>226.983005</td>\n",
              "    </tr>\n",
              "    <tr>\n",
              "      <th>1</th>\n",
              "      <td>Apple</td>\n",
              "      <td>Ultrabook</td>\n",
              "      <td>Intel Core i5 1.8GHz</td>\n",
              "      <td>8</td>\n",
              "      <td>128GB Flash Storage</td>\n",
              "      <td>Intel HD Graphics 6000</td>\n",
              "      <td>macOS</td>\n",
              "      <td>1.34</td>\n",
              "      <td>47895.5232</td>\n",
              "      <td>0</td>\n",
              "      <td>0</td>\n",
              "      <td>127.677940</td>\n",
              "    </tr>\n",
              "    <tr>\n",
              "      <th>2</th>\n",
              "      <td>HP</td>\n",
              "      <td>Notebook</td>\n",
              "      <td>Intel Core i5 7200U 2.5GHz</td>\n",
              "      <td>8</td>\n",
              "      <td>256GB SSD</td>\n",
              "      <td>Intel HD Graphics 620</td>\n",
              "      <td>No OS</td>\n",
              "      <td>1.86</td>\n",
              "      <td>30636.0000</td>\n",
              "      <td>0</td>\n",
              "      <td>0</td>\n",
              "      <td>141.211998</td>\n",
              "    </tr>\n",
              "  </tbody>\n",
              "</table>\n",
              "</div>\n",
              "      <button class=\"colab-df-convert\" onclick=\"convertToInteractive('df-d1bab68f-d528-4efe-a740-35141cf17ee5')\"\n",
              "              title=\"Convert this dataframe to an interactive table.\"\n",
              "              style=\"display:none;\">\n",
              "        \n",
              "  <svg xmlns=\"http://www.w3.org/2000/svg\" height=\"24px\"viewBox=\"0 0 24 24\"\n",
              "       width=\"24px\">\n",
              "    <path d=\"M0 0h24v24H0V0z\" fill=\"none\"/>\n",
              "    <path d=\"M18.56 5.44l.94 2.06.94-2.06 2.06-.94-2.06-.94-.94-2.06-.94 2.06-2.06.94zm-11 1L8.5 8.5l.94-2.06 2.06-.94-2.06-.94L8.5 2.5l-.94 2.06-2.06.94zm10 10l.94 2.06.94-2.06 2.06-.94-2.06-.94-.94-2.06-.94 2.06-2.06.94z\"/><path d=\"M17.41 7.96l-1.37-1.37c-.4-.4-.92-.59-1.43-.59-.52 0-1.04.2-1.43.59L10.3 9.45l-7.72 7.72c-.78.78-.78 2.05 0 2.83L4 21.41c.39.39.9.59 1.41.59.51 0 1.02-.2 1.41-.59l7.78-7.78 2.81-2.81c.8-.78.8-2.07 0-2.86zM5.41 20L4 18.59l7.72-7.72 1.47 1.35L5.41 20z\"/>\n",
              "  </svg>\n",
              "      </button>\n",
              "      \n",
              "  <style>\n",
              "    .colab-df-container {\n",
              "      display:flex;\n",
              "      flex-wrap:wrap;\n",
              "      gap: 12px;\n",
              "    }\n",
              "\n",
              "    .colab-df-convert {\n",
              "      background-color: #E8F0FE;\n",
              "      border: none;\n",
              "      border-radius: 50%;\n",
              "      cursor: pointer;\n",
              "      display: none;\n",
              "      fill: #1967D2;\n",
              "      height: 32px;\n",
              "      padding: 0 0 0 0;\n",
              "      width: 32px;\n",
              "    }\n",
              "\n",
              "    .colab-df-convert:hover {\n",
              "      background-color: #E2EBFA;\n",
              "      box-shadow: 0px 1px 2px rgba(60, 64, 67, 0.3), 0px 1px 3px 1px rgba(60, 64, 67, 0.15);\n",
              "      fill: #174EA6;\n",
              "    }\n",
              "\n",
              "    [theme=dark] .colab-df-convert {\n",
              "      background-color: #3B4455;\n",
              "      fill: #D2E3FC;\n",
              "    }\n",
              "\n",
              "    [theme=dark] .colab-df-convert:hover {\n",
              "      background-color: #434B5C;\n",
              "      box-shadow: 0px 1px 3px 1px rgba(0, 0, 0, 0.15);\n",
              "      filter: drop-shadow(0px 1px 2px rgba(0, 0, 0, 0.3));\n",
              "      fill: #FFFFFF;\n",
              "    }\n",
              "  </style>\n",
              "\n",
              "      <script>\n",
              "        const buttonEl =\n",
              "          document.querySelector('#df-d1bab68f-d528-4efe-a740-35141cf17ee5 button.colab-df-convert');\n",
              "        buttonEl.style.display =\n",
              "          google.colab.kernel.accessAllowed ? 'block' : 'none';\n",
              "\n",
              "        async function convertToInteractive(key) {\n",
              "          const element = document.querySelector('#df-d1bab68f-d528-4efe-a740-35141cf17ee5');\n",
              "          const dataTable =\n",
              "            await google.colab.kernel.invokeFunction('convertToInteractive',\n",
              "                                                     [key], {});\n",
              "          if (!dataTable) return;\n",
              "\n",
              "          const docLinkHtml = 'Like what you see? Visit the ' +\n",
              "            '<a target=\"_blank\" href=https://colab.research.google.com/notebooks/data_table.ipynb>data table notebook</a>'\n",
              "            + ' to learn more about interactive tables.';\n",
              "          element.innerHTML = '';\n",
              "          dataTable['output_type'] = 'display_data';\n",
              "          await google.colab.output.renderOutput(dataTable, element);\n",
              "          const docLink = document.createElement('div');\n",
              "          docLink.innerHTML = docLinkHtml;\n",
              "          element.appendChild(docLink);\n",
              "        }\n",
              "      </script>\n",
              "    </div>\n",
              "  </div>\n",
              "  "
            ]
          },
          "metadata": {},
          "execution_count": 29
        }
      ]
    },
    {
      "cell_type": "code",
      "source": [
        "df['Cpu'].value_counts()"
      ],
      "metadata": {
        "colab": {
          "base_uri": "https://localhost:8080/"
        },
        "id": "SAEto7UvxyH0",
        "outputId": "61811506-173b-40c9-c2b5-8ccd8d2aa97b"
      },
      "execution_count": 30,
      "outputs": [
        {
          "output_type": "execute_result",
          "data": {
            "text/plain": [
              "Intel Core i5 7200U 2.5GHz       190\n",
              "Intel Core i7 7700HQ 2.8GHz      146\n",
              "Intel Core i7 7500U 2.7GHz       134\n",
              "Intel Core i7 8550U 1.8GHz        73\n",
              "Intel Core i5 8250U 1.6GHz        72\n",
              "                                ... \n",
              "Intel Core M M3-6Y30 0.9GHz        1\n",
              "AMD A9-Series 9420 2.9GHz          1\n",
              "Intel Core i3 6006U 2.2GHz         1\n",
              "AMD A6-Series 7310 2GHz            1\n",
              "Intel Xeon E3-1535M v6 3.1GHz      1\n",
              "Name: Cpu, Length: 118, dtype: int64"
            ]
          },
          "metadata": {},
          "execution_count": 30
        }
      ]
    },
    {
      "cell_type": "code",
      "source": [
        "def get_cpu_name(cpu_value):\n",
        "    cpu_words = cpu_value.split()\n",
        "    first_three_words = cpu_words[:3]\n",
        "    cpu_name = \" \".join(first_three_words)\n",
        "    return cpu_name"
      ],
      "metadata": {
        "id": "SnRb8u2bx6wz"
      },
      "execution_count": 31,
      "outputs": []
    },
    {
      "cell_type": "code",
      "source": [
        "df['Cpu Name'] = df['Cpu'].apply(get_cpu_name)"
      ],
      "metadata": {
        "id": "wTCdARl0yUpv"
      },
      "execution_count": 32,
      "outputs": []
    },
    {
      "cell_type": "code",
      "source": [
        "df.head(3)"
      ],
      "metadata": {
        "colab": {
          "base_uri": "https://localhost:8080/",
          "height": 142
        },
        "id": "rdL-M6L7ylou",
        "outputId": "22d63f91-8cbc-4a3a-c9c1-5cf021419f09"
      },
      "execution_count": 33,
      "outputs": [
        {
          "output_type": "execute_result",
          "data": {
            "text/plain": [
              "  Company   TypeName                         Cpu  Ram               Memory  \\\n",
              "0   Apple  Ultrabook        Intel Core i5 2.3GHz    8            128GB SSD   \n",
              "1   Apple  Ultrabook        Intel Core i5 1.8GHz    8  128GB Flash Storage   \n",
              "2      HP   Notebook  Intel Core i5 7200U 2.5GHz    8            256GB SSD   \n",
              "\n",
              "                            Gpu  OpSys  Weight       Price  Touchscreen  Ips  \\\n",
              "0  Intel Iris Plus Graphics 640  macOS    1.37  71378.6832            0    1   \n",
              "1        Intel HD Graphics 6000  macOS    1.34  47895.5232            0    0   \n",
              "2         Intel HD Graphics 620  No OS    1.86  30636.0000            0    0   \n",
              "\n",
              "          ppi       Cpu Name  \n",
              "0  226.983005  Intel Core i5  \n",
              "1  127.677940  Intel Core i5  \n",
              "2  141.211998  Intel Core i5  "
            ],
            "text/html": [
              "\n",
              "  <div id=\"df-fe73d0dc-b1b6-4620-89aa-6cb118e36bd9\">\n",
              "    <div class=\"colab-df-container\">\n",
              "      <div>\n",
              "<style scoped>\n",
              "    .dataframe tbody tr th:only-of-type {\n",
              "        vertical-align: middle;\n",
              "    }\n",
              "\n",
              "    .dataframe tbody tr th {\n",
              "        vertical-align: top;\n",
              "    }\n",
              "\n",
              "    .dataframe thead th {\n",
              "        text-align: right;\n",
              "    }\n",
              "</style>\n",
              "<table border=\"1\" class=\"dataframe\">\n",
              "  <thead>\n",
              "    <tr style=\"text-align: right;\">\n",
              "      <th></th>\n",
              "      <th>Company</th>\n",
              "      <th>TypeName</th>\n",
              "      <th>Cpu</th>\n",
              "      <th>Ram</th>\n",
              "      <th>Memory</th>\n",
              "      <th>Gpu</th>\n",
              "      <th>OpSys</th>\n",
              "      <th>Weight</th>\n",
              "      <th>Price</th>\n",
              "      <th>Touchscreen</th>\n",
              "      <th>Ips</th>\n",
              "      <th>ppi</th>\n",
              "      <th>Cpu Name</th>\n",
              "    </tr>\n",
              "  </thead>\n",
              "  <tbody>\n",
              "    <tr>\n",
              "      <th>0</th>\n",
              "      <td>Apple</td>\n",
              "      <td>Ultrabook</td>\n",
              "      <td>Intel Core i5 2.3GHz</td>\n",
              "      <td>8</td>\n",
              "      <td>128GB SSD</td>\n",
              "      <td>Intel Iris Plus Graphics 640</td>\n",
              "      <td>macOS</td>\n",
              "      <td>1.37</td>\n",
              "      <td>71378.6832</td>\n",
              "      <td>0</td>\n",
              "      <td>1</td>\n",
              "      <td>226.983005</td>\n",
              "      <td>Intel Core i5</td>\n",
              "    </tr>\n",
              "    <tr>\n",
              "      <th>1</th>\n",
              "      <td>Apple</td>\n",
              "      <td>Ultrabook</td>\n",
              "      <td>Intel Core i5 1.8GHz</td>\n",
              "      <td>8</td>\n",
              "      <td>128GB Flash Storage</td>\n",
              "      <td>Intel HD Graphics 6000</td>\n",
              "      <td>macOS</td>\n",
              "      <td>1.34</td>\n",
              "      <td>47895.5232</td>\n",
              "      <td>0</td>\n",
              "      <td>0</td>\n",
              "      <td>127.677940</td>\n",
              "      <td>Intel Core i5</td>\n",
              "    </tr>\n",
              "    <tr>\n",
              "      <th>2</th>\n",
              "      <td>HP</td>\n",
              "      <td>Notebook</td>\n",
              "      <td>Intel Core i5 7200U 2.5GHz</td>\n",
              "      <td>8</td>\n",
              "      <td>256GB SSD</td>\n",
              "      <td>Intel HD Graphics 620</td>\n",
              "      <td>No OS</td>\n",
              "      <td>1.86</td>\n",
              "      <td>30636.0000</td>\n",
              "      <td>0</td>\n",
              "      <td>0</td>\n",
              "      <td>141.211998</td>\n",
              "      <td>Intel Core i5</td>\n",
              "    </tr>\n",
              "  </tbody>\n",
              "</table>\n",
              "</div>\n",
              "      <button class=\"colab-df-convert\" onclick=\"convertToInteractive('df-fe73d0dc-b1b6-4620-89aa-6cb118e36bd9')\"\n",
              "              title=\"Convert this dataframe to an interactive table.\"\n",
              "              style=\"display:none;\">\n",
              "        \n",
              "  <svg xmlns=\"http://www.w3.org/2000/svg\" height=\"24px\"viewBox=\"0 0 24 24\"\n",
              "       width=\"24px\">\n",
              "    <path d=\"M0 0h24v24H0V0z\" fill=\"none\"/>\n",
              "    <path d=\"M18.56 5.44l.94 2.06.94-2.06 2.06-.94-2.06-.94-.94-2.06-.94 2.06-2.06.94zm-11 1L8.5 8.5l.94-2.06 2.06-.94-2.06-.94L8.5 2.5l-.94 2.06-2.06.94zm10 10l.94 2.06.94-2.06 2.06-.94-2.06-.94-.94-2.06-.94 2.06-2.06.94z\"/><path d=\"M17.41 7.96l-1.37-1.37c-.4-.4-.92-.59-1.43-.59-.52 0-1.04.2-1.43.59L10.3 9.45l-7.72 7.72c-.78.78-.78 2.05 0 2.83L4 21.41c.39.39.9.59 1.41.59.51 0 1.02-.2 1.41-.59l7.78-7.78 2.81-2.81c.8-.78.8-2.07 0-2.86zM5.41 20L4 18.59l7.72-7.72 1.47 1.35L5.41 20z\"/>\n",
              "  </svg>\n",
              "      </button>\n",
              "      \n",
              "  <style>\n",
              "    .colab-df-container {\n",
              "      display:flex;\n",
              "      flex-wrap:wrap;\n",
              "      gap: 12px;\n",
              "    }\n",
              "\n",
              "    .colab-df-convert {\n",
              "      background-color: #E8F0FE;\n",
              "      border: none;\n",
              "      border-radius: 50%;\n",
              "      cursor: pointer;\n",
              "      display: none;\n",
              "      fill: #1967D2;\n",
              "      height: 32px;\n",
              "      padding: 0 0 0 0;\n",
              "      width: 32px;\n",
              "    }\n",
              "\n",
              "    .colab-df-convert:hover {\n",
              "      background-color: #E2EBFA;\n",
              "      box-shadow: 0px 1px 2px rgba(60, 64, 67, 0.3), 0px 1px 3px 1px rgba(60, 64, 67, 0.15);\n",
              "      fill: #174EA6;\n",
              "    }\n",
              "\n",
              "    [theme=dark] .colab-df-convert {\n",
              "      background-color: #3B4455;\n",
              "      fill: #D2E3FC;\n",
              "    }\n",
              "\n",
              "    [theme=dark] .colab-df-convert:hover {\n",
              "      background-color: #434B5C;\n",
              "      box-shadow: 0px 1px 3px 1px rgba(0, 0, 0, 0.15);\n",
              "      filter: drop-shadow(0px 1px 2px rgba(0, 0, 0, 0.3));\n",
              "      fill: #FFFFFF;\n",
              "    }\n",
              "  </style>\n",
              "\n",
              "      <script>\n",
              "        const buttonEl =\n",
              "          document.querySelector('#df-fe73d0dc-b1b6-4620-89aa-6cb118e36bd9 button.colab-df-convert');\n",
              "        buttonEl.style.display =\n",
              "          google.colab.kernel.accessAllowed ? 'block' : 'none';\n",
              "\n",
              "        async function convertToInteractive(key) {\n",
              "          const element = document.querySelector('#df-fe73d0dc-b1b6-4620-89aa-6cb118e36bd9');\n",
              "          const dataTable =\n",
              "            await google.colab.kernel.invokeFunction('convertToInteractive',\n",
              "                                                     [key], {});\n",
              "          if (!dataTable) return;\n",
              "\n",
              "          const docLinkHtml = 'Like what you see? Visit the ' +\n",
              "            '<a target=\"_blank\" href=https://colab.research.google.com/notebooks/data_table.ipynb>data table notebook</a>'\n",
              "            + ' to learn more about interactive tables.';\n",
              "          element.innerHTML = '';\n",
              "          dataTable['output_type'] = 'display_data';\n",
              "          await google.colab.output.renderOutput(dataTable, element);\n",
              "          const docLink = document.createElement('div');\n",
              "          docLink.innerHTML = docLinkHtml;\n",
              "          element.appendChild(docLink);\n",
              "        }\n",
              "      </script>\n",
              "    </div>\n",
              "  </div>\n",
              "  "
            ]
          },
          "metadata": {},
          "execution_count": 33
        }
      ]
    },
    {
      "cell_type": "code",
      "source": [
        "def fetch_processor(text):\n",
        "    if text in ['Intel Core i7', 'Intel Core i5', 'Intel Core i3']:\n",
        "        return text\n",
        "    elif text.split()[0] == 'Intel':\n",
        "        return 'Other Intel Processor'\n",
        "    else:\n",
        "        return 'AMD Processor'"
      ],
      "metadata": {
        "id": "sbcKZU2nynk-"
      },
      "execution_count": 34,
      "outputs": []
    },
    {
      "cell_type": "code",
      "source": [
        "df['Cpu brand'] = df['Cpu Name'].apply(fetch_processor)"
      ],
      "metadata": {
        "id": "j-yfUmRKzOZS"
      },
      "execution_count": 35,
      "outputs": []
    },
    {
      "cell_type": "code",
      "source": [
        "df.sample(3)"
      ],
      "metadata": {
        "colab": {
          "base_uri": "https://localhost:8080/",
          "height": 254
        },
        "id": "cfaLjQo_zQaD",
        "outputId": "b1551d8d-1944-4fbc-ba3f-9b50c004db3c"
      },
      "execution_count": 36,
      "outputs": [
        {
          "output_type": "execute_result",
          "data": {
            "text/plain": [
              "    Company  TypeName                          Cpu  Ram     Memory  \\\n",
              "210    Acer  Notebook  Intel Core i7 7700HQ 2.8GHz    8    1TB HDD   \n",
              "394    Dell  Notebook   Intel Core i7 7500U 2.7GHz    8  256GB SSD   \n",
              "129      HP  Notebook   Intel Core i5 8250U 1.6GHz    8  256GB SSD   \n",
              "\n",
              "                         Gpu       OpSys  Weight       Price  Touchscreen  \\\n",
              "210  Nvidia GeForce GTX 1050       Linux    2.40  41505.1200            0   \n",
              "394       AMD Radeon R7 M445       Linux    2.33  41498.1936            0   \n",
              "129   Intel UHD Graphics 620  Windows 10    2.50  49443.8400            0   \n",
              "\n",
              "     Ips         ppi       Cpu Name      Cpu brand  \n",
              "210    0  141.211998  Intel Core i7  Intel Core i7  \n",
              "394    0  141.211998  Intel Core i7  Intel Core i7  \n",
              "129    0  127.335675  Intel Core i5  Intel Core i5  "
            ],
            "text/html": [
              "\n",
              "  <div id=\"df-59cafa2a-eac3-4d13-b555-39a1321415c7\">\n",
              "    <div class=\"colab-df-container\">\n",
              "      <div>\n",
              "<style scoped>\n",
              "    .dataframe tbody tr th:only-of-type {\n",
              "        vertical-align: middle;\n",
              "    }\n",
              "\n",
              "    .dataframe tbody tr th {\n",
              "        vertical-align: top;\n",
              "    }\n",
              "\n",
              "    .dataframe thead th {\n",
              "        text-align: right;\n",
              "    }\n",
              "</style>\n",
              "<table border=\"1\" class=\"dataframe\">\n",
              "  <thead>\n",
              "    <tr style=\"text-align: right;\">\n",
              "      <th></th>\n",
              "      <th>Company</th>\n",
              "      <th>TypeName</th>\n",
              "      <th>Cpu</th>\n",
              "      <th>Ram</th>\n",
              "      <th>Memory</th>\n",
              "      <th>Gpu</th>\n",
              "      <th>OpSys</th>\n",
              "      <th>Weight</th>\n",
              "      <th>Price</th>\n",
              "      <th>Touchscreen</th>\n",
              "      <th>Ips</th>\n",
              "      <th>ppi</th>\n",
              "      <th>Cpu Name</th>\n",
              "      <th>Cpu brand</th>\n",
              "    </tr>\n",
              "  </thead>\n",
              "  <tbody>\n",
              "    <tr>\n",
              "      <th>210</th>\n",
              "      <td>Acer</td>\n",
              "      <td>Notebook</td>\n",
              "      <td>Intel Core i7 7700HQ 2.8GHz</td>\n",
              "      <td>8</td>\n",
              "      <td>1TB HDD</td>\n",
              "      <td>Nvidia GeForce GTX 1050</td>\n",
              "      <td>Linux</td>\n",
              "      <td>2.40</td>\n",
              "      <td>41505.1200</td>\n",
              "      <td>0</td>\n",
              "      <td>0</td>\n",
              "      <td>141.211998</td>\n",
              "      <td>Intel Core i7</td>\n",
              "      <td>Intel Core i7</td>\n",
              "    </tr>\n",
              "    <tr>\n",
              "      <th>394</th>\n",
              "      <td>Dell</td>\n",
              "      <td>Notebook</td>\n",
              "      <td>Intel Core i7 7500U 2.7GHz</td>\n",
              "      <td>8</td>\n",
              "      <td>256GB SSD</td>\n",
              "      <td>AMD Radeon R7 M445</td>\n",
              "      <td>Linux</td>\n",
              "      <td>2.33</td>\n",
              "      <td>41498.1936</td>\n",
              "      <td>0</td>\n",
              "      <td>0</td>\n",
              "      <td>141.211998</td>\n",
              "      <td>Intel Core i7</td>\n",
              "      <td>Intel Core i7</td>\n",
              "    </tr>\n",
              "    <tr>\n",
              "      <th>129</th>\n",
              "      <td>HP</td>\n",
              "      <td>Notebook</td>\n",
              "      <td>Intel Core i5 8250U 1.6GHz</td>\n",
              "      <td>8</td>\n",
              "      <td>256GB SSD</td>\n",
              "      <td>Intel UHD Graphics 620</td>\n",
              "      <td>Windows 10</td>\n",
              "      <td>2.50</td>\n",
              "      <td>49443.8400</td>\n",
              "      <td>0</td>\n",
              "      <td>0</td>\n",
              "      <td>127.335675</td>\n",
              "      <td>Intel Core i5</td>\n",
              "      <td>Intel Core i5</td>\n",
              "    </tr>\n",
              "  </tbody>\n",
              "</table>\n",
              "</div>\n",
              "      <button class=\"colab-df-convert\" onclick=\"convertToInteractive('df-59cafa2a-eac3-4d13-b555-39a1321415c7')\"\n",
              "              title=\"Convert this dataframe to an interactive table.\"\n",
              "              style=\"display:none;\">\n",
              "        \n",
              "  <svg xmlns=\"http://www.w3.org/2000/svg\" height=\"24px\"viewBox=\"0 0 24 24\"\n",
              "       width=\"24px\">\n",
              "    <path d=\"M0 0h24v24H0V0z\" fill=\"none\"/>\n",
              "    <path d=\"M18.56 5.44l.94 2.06.94-2.06 2.06-.94-2.06-.94-.94-2.06-.94 2.06-2.06.94zm-11 1L8.5 8.5l.94-2.06 2.06-.94-2.06-.94L8.5 2.5l-.94 2.06-2.06.94zm10 10l.94 2.06.94-2.06 2.06-.94-2.06-.94-.94-2.06-.94 2.06-2.06.94z\"/><path d=\"M17.41 7.96l-1.37-1.37c-.4-.4-.92-.59-1.43-.59-.52 0-1.04.2-1.43.59L10.3 9.45l-7.72 7.72c-.78.78-.78 2.05 0 2.83L4 21.41c.39.39.9.59 1.41.59.51 0 1.02-.2 1.41-.59l7.78-7.78 2.81-2.81c.8-.78.8-2.07 0-2.86zM5.41 20L4 18.59l7.72-7.72 1.47 1.35L5.41 20z\"/>\n",
              "  </svg>\n",
              "      </button>\n",
              "      \n",
              "  <style>\n",
              "    .colab-df-container {\n",
              "      display:flex;\n",
              "      flex-wrap:wrap;\n",
              "      gap: 12px;\n",
              "    }\n",
              "\n",
              "    .colab-df-convert {\n",
              "      background-color: #E8F0FE;\n",
              "      border: none;\n",
              "      border-radius: 50%;\n",
              "      cursor: pointer;\n",
              "      display: none;\n",
              "      fill: #1967D2;\n",
              "      height: 32px;\n",
              "      padding: 0 0 0 0;\n",
              "      width: 32px;\n",
              "    }\n",
              "\n",
              "    .colab-df-convert:hover {\n",
              "      background-color: #E2EBFA;\n",
              "      box-shadow: 0px 1px 2px rgba(60, 64, 67, 0.3), 0px 1px 3px 1px rgba(60, 64, 67, 0.15);\n",
              "      fill: #174EA6;\n",
              "    }\n",
              "\n",
              "    [theme=dark] .colab-df-convert {\n",
              "      background-color: #3B4455;\n",
              "      fill: #D2E3FC;\n",
              "    }\n",
              "\n",
              "    [theme=dark] .colab-df-convert:hover {\n",
              "      background-color: #434B5C;\n",
              "      box-shadow: 0px 1px 3px 1px rgba(0, 0, 0, 0.15);\n",
              "      filter: drop-shadow(0px 1px 2px rgba(0, 0, 0, 0.3));\n",
              "      fill: #FFFFFF;\n",
              "    }\n",
              "  </style>\n",
              "\n",
              "      <script>\n",
              "        const buttonEl =\n",
              "          document.querySelector('#df-59cafa2a-eac3-4d13-b555-39a1321415c7 button.colab-df-convert');\n",
              "        buttonEl.style.display =\n",
              "          google.colab.kernel.accessAllowed ? 'block' : 'none';\n",
              "\n",
              "        async function convertToInteractive(key) {\n",
              "          const element = document.querySelector('#df-59cafa2a-eac3-4d13-b555-39a1321415c7');\n",
              "          const dataTable =\n",
              "            await google.colab.kernel.invokeFunction('convertToInteractive',\n",
              "                                                     [key], {});\n",
              "          if (!dataTable) return;\n",
              "\n",
              "          const docLinkHtml = 'Like what you see? Visit the ' +\n",
              "            '<a target=\"_blank\" href=https://colab.research.google.com/notebooks/data_table.ipynb>data table notebook</a>'\n",
              "            + ' to learn more about interactive tables.';\n",
              "          element.innerHTML = '';\n",
              "          dataTable['output_type'] = 'display_data';\n",
              "          await google.colab.output.renderOutput(dataTable, element);\n",
              "          const docLink = document.createElement('div');\n",
              "          docLink.innerHTML = docLinkHtml;\n",
              "          element.appendChild(docLink);\n",
              "        }\n",
              "      </script>\n",
              "    </div>\n",
              "  </div>\n",
              "  "
            ]
          },
          "metadata": {},
          "execution_count": 36
        }
      ]
    },
    {
      "cell_type": "code",
      "source": [
        "cpu_brand_counts = df['Cpu brand'].value_counts()\n",
        "sns.set(style='whitegrid')\n",
        "\n",
        "plt.figure(figsize=(8, 6))\n",
        "ax = sns.barplot(x=cpu_brand_counts.index, y=cpu_brand_counts.values, palette='viridis')\n",
        "\n",
        "ax.set_title('Cpu Brand Counts', fontweight='bold', fontsize=16)\n",
        "ax.set_xlabel('Cpu Brand', fontweight='bold')\n",
        "ax.set_ylabel('Counts', fontweight='bold')\n",
        "\n",
        "plt.xticks(rotation=45)\n",
        "\n",
        "plt.show()"
      ],
      "metadata": {
        "colab": {
          "base_uri": "https://localhost:8080/",
          "height": 684
        },
        "id": "FgdC8JvtzSAW",
        "outputId": "1a10a26c-00ac-4ea0-b0c4-577a5133c04c"
      },
      "execution_count": 46,
      "outputs": [
        {
          "output_type": "display_data",
          "data": {
            "text/plain": [
              "<Figure size 800x600 with 1 Axes>"
            ],
            "image/png": "[encoded data removed]"
          },
          "metadata": {}
        }
      ]
    },
    {
      "cell_type": "code",
      "source": [
        "df.drop(columns=['Cpu','Cpu Name'],inplace=True)"
      ],
      "metadata": {
        "id": "LRz9f8J8zheZ"
      },
      "execution_count": 38,
      "outputs": []
    },
    {
      "cell_type": "code",
      "source": [
        "df.head(3)"
      ],
      "metadata": {
        "colab": {
          "base_uri": "https://localhost:8080/",
          "height": 142
        },
        "id": "VOaHZ60GzooE",
        "outputId": "d2f61dc1-6083-4c2d-eabf-a45b8e940305"
      },
      "execution_count": 39,
      "outputs": [
        {
          "output_type": "execute_result",
          "data": {
            "text/plain": [
              "  Company   TypeName  Ram               Memory                           Gpu  \\\n",
              "0   Apple  Ultrabook    8            128GB SSD  Intel Iris Plus Graphics 640   \n",
              "1   Apple  Ultrabook    8  128GB Flash Storage        Intel HD Graphics 6000   \n",
              "2      HP   Notebook    8            256GB SSD         Intel HD Graphics 620   \n",
              "\n",
              "   OpSys  Weight       Price  Touchscreen  Ips         ppi      Cpu brand  \n",
              "0  macOS    1.37  71378.6832            0    1  226.983005  Intel Core i5  \n",
              "1  macOS    1.34  47895.5232            0    0  127.677940  Intel Core i5  \n",
              "2  No OS    1.86  30636.0000            0    0  141.211998  Intel Core i5  "
            ],
            "text/html": [
              "\n",
              "  <div id=\"df-4b429d3e-d99f-4b09-960f-9260f203d5c7\">\n",
              "    <div class=\"colab-df-container\">\n",
              "      <div>\n",
              "<style scoped>\n",
              "    .dataframe tbody tr th:only-of-type {\n",
              "        vertical-align: middle;\n",
              "    }\n",
              "\n",
              "    .dataframe tbody tr th {\n",
              "        vertical-align: top;\n",
              "    }\n",
              "\n",
              "    .dataframe thead th {\n",
              "        text-align: right;\n",
              "    }\n",
              "</style>\n",
              "<table border=\"1\" class=\"dataframe\">\n",
              "  <thead>\n",
              "    <tr style=\"text-align: right;\">\n",
              "      <th></th>\n",
              "      <th>Company</th>\n",
              "      <th>TypeName</th>\n",
              "      <th>Ram</th>\n",
              "      <th>Memory</th>\n",
              "      <th>Gpu</th>\n",
              "      <th>OpSys</th>\n",
              "      <th>Weight</th>\n",
              "      <th>Price</th>\n",
              "      <th>Touchscreen</th>\n",
              "      <th>Ips</th>\n",
              "      <th>ppi</th>\n",
              "      <th>Cpu brand</th>\n",
              "    </tr>\n",
              "  </thead>\n",
              "  <tbody>\n",
              "    <tr>\n",
              "      <th>0</th>\n",
              "      <td>Apple</td>\n",
              "      <td>Ultrabook</td>\n",
              "      <td>8</td>\n",
              "      <td>128GB SSD</td>\n",
              "      <td>Intel Iris Plus Graphics 640</td>\n",
              "      <td>macOS</td>\n",
              "      <td>1.37</td>\n",
              "      <td>71378.6832</td>\n",
              "      <td>0</td>\n",
              "      <td>1</td>\n",
              "      <td>226.983005</td>\n",
              "      <td>Intel Core i5</td>\n",
              "    </tr>\n",
              "    <tr>\n",
              "      <th>1</th>\n",
              "      <td>Apple</td>\n",
              "      <td>Ultrabook</td>\n",
              "      <td>8</td>\n",
              "      <td>128GB Flash Storage</td>\n",
              "      <td>Intel HD Graphics 6000</td>\n",
              "      <td>macOS</td>\n",
              "      <td>1.34</td>\n",
              "      <td>47895.5232</td>\n",
              "      <td>0</td>\n",
              "      <td>0</td>\n",
              "      <td>127.677940</td>\n",
              "      <td>Intel Core i5</td>\n",
              "    </tr>\n",
              "    <tr>\n",
              "      <th>2</th>\n",
              "      <td>HP</td>\n",
              "      <td>Notebook</td>\n",
              "      <td>8</td>\n",
              "      <td>256GB SSD</td>\n",
              "      <td>Intel HD Graphics 620</td>\n",
              "      <td>No OS</td>\n",
              "      <td>1.86</td>\n",
              "      <td>30636.0000</td>\n",
              "      <td>0</td>\n",
              "      <td>0</td>\n",
              "      <td>141.211998</td>\n",
              "      <td>Intel Core i5</td>\n",
              "    </tr>\n",
              "  </tbody>\n",
              "</table>\n",
              "</div>\n",
              "      <button class=\"colab-df-convert\" onclick=\"convertToInteractive('df-4b429d3e-d99f-4b09-960f-9260f203d5c7')\"\n",
              "              title=\"Convert this dataframe to an interactive table.\"\n",
              "              style=\"display:none;\">\n",
              "        \n",
              "  <svg xmlns=\"http://www.w3.org/2000/svg\" height=\"24px\"viewBox=\"0 0 24 24\"\n",
              "       width=\"24px\">\n",
              "    <path d=\"M0 0h24v24H0V0z\" fill=\"none\"/>\n",
              "    <path d=\"M18.56 5.44l.94 2.06.94-2.06 2.06-.94-2.06-.94-.94-2.06-.94 2.06-2.06.94zm-11 1L8.5 8.5l.94-2.06 2.06-.94-2.06-.94L8.5 2.5l-.94 2.06-2.06.94zm10 10l.94 2.06.94-2.06 2.06-.94-2.06-.94-.94-2.06-.94 2.06-2.06.94z\"/><path d=\"M17.41 7.96l-1.37-1.37c-.4-.4-.92-.59-1.43-.59-.52 0-1.04.2-1.43.59L10.3 9.45l-7.72 7.72c-.78.78-.78 2.05 0 2.83L4 21.41c.39.39.9.59 1.41.59.51 0 1.02-.2 1.41-.59l7.78-7.78 2.81-2.81c.8-.78.8-2.07 0-2.86zM5.41 20L4 18.59l7.72-7.72 1.47 1.35L5.41 20z\"/>\n",
              "  </svg>\n",
              "      </button>\n",
              "      \n",
              "  <style>\n",
              "    .colab-df-container {\n",
              "      display:flex;\n",
              "      flex-wrap:wrap;\n",
              "      gap: 12px;\n",
              "    }\n",
              "\n",
              "    .colab-df-convert {\n",
              "      background-color: #E8F0FE;\n",
              "      border: none;\n",
              "      border-radius: 50%;\n",
              "      cursor: pointer;\n",
              "      display: none;\n",
              "      fill: #1967D2;\n",
              "      height: 32px;\n",
              "      padding: 0 0 0 0;\n",
              "      width: 32px;\n",
              "    }\n",
              "\n",
              "    .colab-df-convert:hover {\n",
              "      background-color: #E2EBFA;\n",
              "      box-shadow: 0px 1px 2px rgba(60, 64, 67, 0.3), 0px 1px 3px 1px rgba(60, 64, 67, 0.15);\n",
              "      fill: #174EA6;\n",
              "    }\n",
              "\n",
              "    [theme=dark] .colab-df-convert {\n",
              "      background-color: #3B4455;\n",
              "      fill: #D2E3FC;\n",
              "    }\n",
              "\n",
              "    [theme=dark] .colab-df-convert:hover {\n",
              "      background-color: #434B5C;\n",
              "      box-shadow: 0px 1px 3px 1px rgba(0, 0, 0, 0.15);\n",
              "      filter: drop-shadow(0px 1px 2px rgba(0, 0, 0, 0.3));\n",
              "      fill: #FFFFFF;\n",
              "    }\n",
              "  </style>\n",
              "\n",
              "      <script>\n",
              "        const buttonEl =\n",
              "          document.querySelector('#df-4b429d3e-d99f-4b09-960f-9260f203d5c7 button.colab-df-convert');\n",
              "        buttonEl.style.display =\n",
              "          google.colab.kernel.accessAllowed ? 'block' : 'none';\n",
              "\n",
              "        async function convertToInteractive(key) {\n",
              "          const element = document.querySelector('#df-4b429d3e-d99f-4b09-960f-9260f203d5c7');\n",
              "          const dataTable =\n",
              "            await google.colab.kernel.invokeFunction('convertToInteractive',\n",
              "                                                     [key], {});\n",
              "          if (!dataTable) return;\n",
              "\n",
              "          const docLinkHtml = 'Like what you see? Visit the ' +\n",
              "            '<a target=\"_blank\" href=https://colab.research.google.com/notebooks/data_table.ipynb>data table notebook</a>'\n",
              "            + ' to learn more about interactive tables.';\n",
              "          element.innerHTML = '';\n",
              "          dataTable['output_type'] = 'display_data';\n",
              "          await google.colab.output.renderOutput(dataTable, element);\n",
              "          const docLink = document.createElement('div');\n",
              "          docLink.innerHTML = docLinkHtml;\n",
              "          element.appendChild(docLink);\n",
              "        }\n",
              "      </script>\n",
              "    </div>\n",
              "  </div>\n",
              "  "
            ]
          },
          "metadata": {},
          "execution_count": 39
        }
      ]
    },
    {
      "cell_type": "code",
      "source": [
        "ram_counts = df['Ram'].value_counts()\n",
        "\n",
        "sns.set(style='whitegrid')\n",
        "\n",
        "plt.figure(figsize=(8, 6))\n",
        "ax = sns.barplot(x=ram_counts.index, y=ram_counts.values, palette='colorblind')\n",
        "\n",
        "ax.set_title('Ram Counts', fontweight='bold', fontsize=16)\n",
        "ax.set_xlabel('Ram', fontweight='bold')\n",
        "ax.set_ylabel('Counts', fontweight='bold')\n",
        "\n",
        "plt.xticks(rotation=45)\n",
        "\n",
        "plt.show()\n"
      ],
      "metadata": {
        "colab": {
          "base_uri": "https://localhost:8080/",
          "height": 584
        },
        "id": "q2ypVBTvNsLh",
        "outputId": "a430a6c9-7f23-4e7b-9e50-0abb49a10406"
      },
      "execution_count": 45,
      "outputs": [
        {
          "output_type": "display_data",
          "data": {
            "text/plain": [
              "<Figure size 800x600 with 1 Axes>"
            ],
            "image/png": "[encoded data removed]"
          },
          "metadata": {}
        }
      ]
    },
    {
      "cell_type": "code",
      "source": [
        "sns.set(style='whitegrid')\n",
        "\n",
        "plt.figure(figsize=(8, 6))\n",
        "ax = sns.barplot(x=df['Ram'], y=df['Price'], palette='colorblind')\n",
        "\n",
        "ax.set_title('Price by Ram', fontweight='bold', fontsize=16)\n",
        "ax.set_xlabel('Ram', fontweight='bold')\n",
        "ax.set_ylabel('Price', fontweight='bold')\n",
        "\n",
        "plt.xticks(rotation=45)\n",
        "\n",
        "plt.show()"
      ],
      "metadata": {
        "colab": {
          "base_uri": "https://localhost:8080/",
          "height": 584
        },
        "id": "VotNmEe1NOc-",
        "outputId": "50659239-ac1c-4383-a2f4-8e58457dda89"
      },
      "execution_count": 43,
      "outputs": [
        {
          "output_type": "display_data",
          "data": {
            "text/plain": [
              "<Figure size 800x600 with 1 Axes>"
            ],
            "image/png": "[encoded data removed]"
          },
          "metadata": {}
        }
      ]
    },
    {
      "cell_type": "code",
      "source": [
        "df['Memory'].value_counts()"
      ],
      "metadata": {
        "colab": {
          "base_uri": "https://localhost:8080/"
        },
        "id": "XpbMgxtaNYuC",
        "outputId": "cb5f88a6-c2f5-421d-b63f-4179fccf9346"
      },
      "execution_count": 53,
      "outputs": [
        {
          "output_type": "execute_result",
          "data": {
            "text/plain": [
              "256GB SSD                        412\n",
              "1TB HDD                          223\n",
              "500GB HDD                        132\n",
              "512GB SSD                        118\n",
              "128GB SSD +  1TB HDD              94\n",
              "128GB SSD                         76\n",
              "256GB SSD +  1TB HDD              73\n",
              "32GB Flash Storage                38\n",
              "2TB HDD                           16\n",
              "64GB Flash Storage                15\n",
              "512GB SSD +  1TB HDD              14\n",
              "1TB SSD                           14\n",
              "256GB SSD +  2TB HDD              10\n",
              "1.0TB Hybrid                       9\n",
              "256GB Flash Storage                8\n",
              "16GB Flash Storage                 7\n",
              "32GB SSD                           6\n",
              "180GB SSD                          5\n",
              "128GB Flash Storage                4\n",
              "512GB SSD +  2TB HDD               3\n",
              "16GB SSD                           3\n",
              "512GB Flash Storage                2\n",
              "1TB SSD +  1TB HDD                 2\n",
              "256GB SSD +  500GB HDD             2\n",
              "128GB SSD +  2TB HDD               2\n",
              "256GB SSD +  256GB SSD             2\n",
              "512GB SSD +  256GB SSD             1\n",
              "512GB SSD +  512GB SSD             1\n",
              "64GB Flash Storage +  1TB HDD      1\n",
              "1TB HDD +  1TB HDD                 1\n",
              "32GB HDD                           1\n",
              "64GB SSD                           1\n",
              "128GB HDD                          1\n",
              "240GB SSD                          1\n",
              "8GB SSD                            1\n",
              "508GB Hybrid                       1\n",
              "1.0TB HDD                          1\n",
              "512GB SSD +  1.0TB Hybrid          1\n",
              "256GB SSD +  1.0TB Hybrid          1\n",
              "Name: Memory, dtype: int64"
            ]
          },
          "metadata": {},
          "execution_count": 53
        }
      ]
    },
    {
      "cell_type": "code",
      "source": [
        "df['Memory'] = df['Memory'].astype(str).str.replace('\\.0', '').str.replace('GB', '').str.replace('TB', '000')"
      ],
      "metadata": {
        "colab": {
          "base_uri": "https://localhost:8080/"
        },
        "id": "uSeF9021OqQc",
        "outputId": "2271d868-267b-4f23-d06d-40edcdfc0ca1"
      },
      "execution_count": 69,
      "outputs": [
        {
          "output_type": "stream",
          "name": "stderr",
          "text": [
            "<ipython-input-69-e3742b54d13b>:1: FutureWarning: The default value of regex will change from True to False in a future version.\n",
            "  df['Memory'] = df['Memory'].astype(str).str.replace('\\.0', '').str.replace('GB', '').str.replace('TB', '000')\n"
          ]
        }
      ]
    },
    {
      "cell_type": "code",
      "source": [
        "df[['first', 'second']] = df['Memory'].astype(str).str.split('+', n=1, expand=True)\n",
        "df['first'] = df['first'].str.strip().str.replace(r'\\D', '').astype(int)\n",
        "df['second'] = df['second'].fillna('0').str.replace(r'\\D', '').astype(int)"
      ],
      "metadata": {
        "colab": {
          "base_uri": "https://localhost:8080/"
        },
        "id": "uwJy1DwIPQcI",
        "outputId": "4809033d-a379-46c5-d47c-6ffe37958297"
      },
      "execution_count": 70,
      "outputs": [
        {
          "output_type": "stream",
          "name": "stderr",
          "text": [
            "<ipython-input-70-7ef35f8736ed>:2: FutureWarning: The default value of regex will change from True to False in a future version.\n",
            "  df['first'] = df['first'].str.strip().str.replace(r'\\D', '').astype(int)\n",
            "<ipython-input-70-7ef35f8736ed>:3: FutureWarning: The default value of regex will change from True to False in a future version.\n",
            "  df['second'] = df['second'].fillna('0').str.replace(r'\\D', '').astype(int)\n"
          ]
        }
      ]
    },
    {
      "cell_type": "code",
      "source": [
        "df['HDD'] = df['first'] * (df['Memory'].str.contains('HDD').astype(int)) + df['second'] * (df['Memory'].str.contains('HDD').astype(int))\n",
        "df['SSD'] = df['first'] * (df['Memory'].str.contains('SSD').astype(int)) + df['second'] * (df['Memory'].str.contains('SSD').astype(int))\n",
        "df['Hybrid'] = df['first'] * (df['Memory'].str.contains('Hybrid').astype(int)) + df['second'] * (df['Memory'].str.contains('Hybrid').astype(int))\n",
        "df['Flash_Storage'] = df['first'] * (df['Memory'].str.contains('Flash Storage').astype(int)) + df['second'] * (df['Memory'].str.contains('Flash Storage').astype(int))\n"
      ],
      "metadata": {
        "id": "ixM77fiSPVSu"
      },
      "execution_count": 71,
      "outputs": []
    },
    {
      "cell_type": "code",
      "source": [
        "df.drop(columns=['first', 'second'], inplace=True)"
      ],
      "metadata": {
        "id": "XyNzHCEfPg_I"
      },
      "execution_count": 72,
      "outputs": []
    },
    {
      "cell_type": "code",
      "source": [
        "df.sample(5)"
      ],
      "metadata": {
        "colab": {
          "base_uri": "https://localhost:8080/",
          "height": 248
        },
        "id": "7-7sk_c8QGjG",
        "outputId": "172707ce-91b5-4aef-af12-08da02911dfe"
      },
      "execution_count": 73,
      "outputs": [
        {
          "output_type": "execute_result",
          "data": {
            "text/plain": [
              "     Company  TypeName  Ram    Memory                    Gpu       OpSys  \\\n",
              "432   Lenovo  Notebook    4   128 SSD  Intel HD Graphics 620  Windows 10   \n",
              "1227    Dell  Notebook    4  1000 HDD  Intel HD Graphics 520       Linux   \n",
              "1257    Dell  Notebook    4   500 HDD  Intel HD Graphics 520  Windows 10   \n",
              "1164      HP  Notebook    4   500 HDD  Intel HD Graphics 520       No OS   \n",
              "386   Lenovo  Notebook    4   128 SSD  Intel HD Graphics 620  Windows 10   \n",
              "\n",
              "      Weight       Price  Touchscreen  Ips         ppi      Cpu brand   HDD  \\\n",
              "432     1.70  31914.7200            0    1  157.350512  Intel Core i3     0   \n",
              "1227    2.18  27804.7008            0    0  100.454670  Intel Core i5  1000   \n",
              "1257    2.29  26107.2000            0    0  100.454670  Intel Core i3   500   \n",
              "1164    2.10  25414.0272            0    0  100.454670  Intel Core i5   500   \n",
              "386     1.50  29250.7200            0    1  165.632118  Intel Core i3     0   \n",
              "\n",
              "      SSD  Hybrid  Flash_Storage  \n",
              "432   128       0              0  \n",
              "1227    0       0              0  \n",
              "1257    0       0              0  \n",
              "1164    0       0              0  \n",
              "386   128       0              0  "
            ],
            "text/html": [
              "\n",
              "  <div id=\"df-e9710431-920a-491d-be02-3bfd9b5ab9ce\">\n",
              "    <div class=\"colab-df-container\">\n",
              "      <div>\n",
              "<style scoped>\n",
              "    .dataframe tbody tr th:only-of-type {\n",
              "        vertical-align: middle;\n",
              "    }\n",
              "\n",
              "    .dataframe tbody tr th {\n",
              "        vertical-align: top;\n",
              "    }\n",
              "\n",
              "    .dataframe thead th {\n",
              "        text-align: right;\n",
              "    }\n",
              "</style>\n",
              "<table border=\"1\" class=\"dataframe\">\n",
              "  <thead>\n",
              "    <tr style=\"text-align: right;\">\n",
              "      <th></th>\n",
              "      <th>Company</th>\n",
              "      <th>TypeName</th>\n",
              "      <th>Ram</th>\n",
              "      <th>Memory</th>\n",
              "      <th>Gpu</th>\n",
              "      <th>OpSys</th>\n",
              "      <th>Weight</th>\n",
              "      <th>Price</th>\n",
              "      <th>Touchscreen</th>\n",
              "      <th>Ips</th>\n",
              "      <th>ppi</th>\n",
              "      <th>Cpu brand</th>\n",
              "      <th>HDD</th>\n",
              "      <th>SSD</th>\n",
              "      <th>Hybrid</th>\n",
              "      <th>Flash_Storage</th>\n",
              "    </tr>\n",
              "  </thead>\n",
              "  <tbody>\n",
              "    <tr>\n",
              "      <th>432</th>\n",
              "      <td>Lenovo</td>\n",
              "      <td>Notebook</td>\n",
              "      <td>4</td>\n",
              "      <td>128 SSD</td>\n",
              "      <td>Intel HD Graphics 620</td>\n",
              "      <td>Windows 10</td>\n",
              "      <td>1.70</td>\n",
              "      <td>31914.7200</td>\n",
              "      <td>0</td>\n",
              "      <td>1</td>\n",
              "      <td>157.350512</td>\n",
              "      <td>Intel Core i3</td>\n",
              "      <td>0</td>\n",
              "      <td>128</td>\n",
              "      <td>0</td>\n",
              "      <td>0</td>\n",
              "    </tr>\n",
              "    <tr>\n",
              "      <th>1227</th>\n",
              "      <td>Dell</td>\n",
              "      <td>Notebook</td>\n",
              "      <td>4</td>\n",
              "      <td>1000 HDD</td>\n",
              "      <td>Intel HD Graphics 520</td>\n",
              "      <td>Linux</td>\n",
              "      <td>2.18</td>\n",
              "      <td>27804.7008</td>\n",
              "      <td>0</td>\n",
              "      <td>0</td>\n",
              "      <td>100.454670</td>\n",
              "      <td>Intel Core i5</td>\n",
              "      <td>1000</td>\n",
              "      <td>0</td>\n",
              "      <td>0</td>\n",
              "      <td>0</td>\n",
              "    </tr>\n",
              "    <tr>\n",
              "      <th>1257</th>\n",
              "      <td>Dell</td>\n",
              "      <td>Notebook</td>\n",
              "      <td>4</td>\n",
              "      <td>500 HDD</td>\n",
              "      <td>Intel HD Graphics 520</td>\n",
              "      <td>Windows 10</td>\n",
              "      <td>2.29</td>\n",
              "      <td>26107.2000</td>\n",
              "      <td>0</td>\n",
              "      <td>0</td>\n",
              "      <td>100.454670</td>\n",
              "      <td>Intel Core i3</td>\n",
              "      <td>500</td>\n",
              "      <td>0</td>\n",
              "      <td>0</td>\n",
              "      <td>0</td>\n",
              "    </tr>\n",
              "    <tr>\n",
              "      <th>1164</th>\n",
              "      <td>HP</td>\n",
              "      <td>Notebook</td>\n",
              "      <td>4</td>\n",
              "      <td>500 HDD</td>\n",
              "      <td>Intel HD Graphics 520</td>\n",
              "      <td>No OS</td>\n",
              "      <td>2.10</td>\n",
              "      <td>25414.0272</td>\n",
              "      <td>0</td>\n",
              "      <td>0</td>\n",
              "      <td>100.454670</td>\n",
              "      <td>Intel Core i5</td>\n",
              "      <td>500</td>\n",
              "      <td>0</td>\n",
              "      <td>0</td>\n",
              "      <td>0</td>\n",
              "    </tr>\n",
              "    <tr>\n",
              "      <th>386</th>\n",
              "      <td>Lenovo</td>\n",
              "      <td>Notebook</td>\n",
              "      <td>4</td>\n",
              "      <td>128 SSD</td>\n",
              "      <td>Intel HD Graphics 620</td>\n",
              "      <td>Windows 10</td>\n",
              "      <td>1.50</td>\n",
              "      <td>29250.7200</td>\n",
              "      <td>0</td>\n",
              "      <td>1</td>\n",
              "      <td>165.632118</td>\n",
              "      <td>Intel Core i3</td>\n",
              "      <td>0</td>\n",
              "      <td>128</td>\n",
              "      <td>0</td>\n",
              "      <td>0</td>\n",
              "    </tr>\n",
              "  </tbody>\n",
              "</table>\n",
              "</div>\n",
              "      <button class=\"colab-df-convert\" onclick=\"convertToInteractive('df-e9710431-920a-491d-be02-3bfd9b5ab9ce')\"\n",
              "              title=\"Convert this dataframe to an interactive table.\"\n",
              "              style=\"display:none;\">\n",
              "        \n",
              "  <svg xmlns=\"http://www.w3.org/2000/svg\" height=\"24px\"viewBox=\"0 0 24 24\"\n",
              "       width=\"24px\">\n",
              "    <path d=\"M0 0h24v24H0V0z\" fill=\"none\"/>\n",
              "    <path d=\"M18.56 5.44l.94 2.06.94-2.06 2.06-.94-2.06-.94-.94-2.06-.94 2.06-2.06.94zm-11 1L8.5 8.5l.94-2.06 2.06-.94-2.06-.94L8.5 2.5l-.94 2.06-2.06.94zm10 10l.94 2.06.94-2.06 2.06-.94-2.06-.94-.94-2.06-.94 2.06-2.06.94z\"/><path d=\"M17.41 7.96l-1.37-1.37c-.4-.4-.92-.59-1.43-.59-.52 0-1.04.2-1.43.59L10.3 9.45l-7.72 7.72c-.78.78-.78 2.05 0 2.83L4 21.41c.39.39.9.59 1.41.59.51 0 1.02-.2 1.41-.59l7.78-7.78 2.81-2.81c.8-.78.8-2.07 0-2.86zM5.41 20L4 18.59l7.72-7.72 1.47 1.35L5.41 20z\"/>\n",
              "  </svg>\n",
              "      </button>\n",
              "      \n",
              "  <style>\n",
              "    .colab-df-container {\n",
              "      display:flex;\n",
              "      flex-wrap:wrap;\n",
              "      gap: 12px;\n",
              "    }\n",
              "\n",
              "    .colab-df-convert {\n",
              "      background-color: #E8F0FE;\n",
              "      border: none;\n",
              "      border-radius: 50%;\n",
              "      cursor: pointer;\n",
              "      display: none;\n",
              "      fill: #1967D2;\n",
              "      height: 32px;\n",
              "      padding: 0 0 0 0;\n",
              "      width: 32px;\n",
              "    }\n",
              "\n",
              "    .colab-df-convert:hover {\n",
              "      background-color: #E2EBFA;\n",
              "      box-shadow: 0px 1px 2px rgba(60, 64, 67, 0.3), 0px 1px 3px 1px rgba(60, 64, 67, 0.15);\n",
              "      fill: #174EA6;\n",
              "    }\n",
              "\n",
              "    [theme=dark] .colab-df-convert {\n",
              "      background-color: #3B4455;\n",
              "      fill: #D2E3FC;\n",
              "    }\n",
              "\n",
              "    [theme=dark] .colab-df-convert:hover {\n",
              "      background-color: #434B5C;\n",
              "      box-shadow: 0px 1px 3px 1px rgba(0, 0, 0, 0.15);\n",
              "      filter: drop-shadow(0px 1px 2px rgba(0, 0, 0, 0.3));\n",
              "      fill: #FFFFFF;\n",
              "    }\n",
              "  </style>\n",
              "\n",
              "      <script>\n",
              "        const buttonEl =\n",
              "          document.querySelector('#df-e9710431-920a-491d-be02-3bfd9b5ab9ce button.colab-df-convert');\n",
              "        buttonEl.style.display =\n",
              "          google.colab.kernel.accessAllowed ? 'block' : 'none';\n",
              "\n",
              "        async function convertToInteractive(key) {\n",
              "          const element = document.querySelector('#df-e9710431-920a-491d-be02-3bfd9b5ab9ce');\n",
              "          const dataTable =\n",
              "            await google.colab.kernel.invokeFunction('convertToInteractive',\n",
              "                                                     [key], {});\n",
              "          if (!dataTable) return;\n",
              "\n",
              "          const docLinkHtml = 'Like what you see? Visit the ' +\n",
              "            '<a target=\"_blank\" href=https://colab.research.google.com/notebooks/data_table.ipynb>data table notebook</a>'\n",
              "            + ' to learn more about interactive tables.';\n",
              "          element.innerHTML = '';\n",
              "          dataTable['output_type'] = 'display_data';\n",
              "          await google.colab.output.renderOutput(dataTable, element);\n",
              "          const docLink = document.createElement('div');\n",
              "          docLink.innerHTML = docLinkHtml;\n",
              "          element.appendChild(docLink);\n",
              "        }\n",
              "      </script>\n",
              "    </div>\n",
              "  </div>\n",
              "  "
            ]
          },
          "metadata": {},
          "execution_count": 73
        }
      ]
    },
    {
      "cell_type": "code",
      "source": [
        "df.drop(columns=['Memory'],inplace=True)"
      ],
      "metadata": {
        "id": "3MhTdBgAQZ73"
      },
      "execution_count": 74,
      "outputs": []
    },
    {
      "cell_type": "code",
      "source": [
        "df.corr()['Price']"
      ],
      "metadata": {
        "colab": {
          "base_uri": "https://localhost:8080/"
        },
        "id": "06ANvakqRnrS",
        "outputId": "144c6832-ca7e-46e6-d2dd-6057fa20ff8f"
      },
      "execution_count": 76,
      "outputs": [
        {
          "output_type": "stream",
          "name": "stderr",
          "text": [
            "<ipython-input-76-9447c1bc3d29>:1: FutureWarning: The default value of numeric_only in DataFrame.corr is deprecated. In a future version, it will default to False. Select only valid columns or specify the value of numeric_only to silence this warning.\n",
            "  df.corr()['Price']\n"
          ]
        },
        {
          "output_type": "execute_result",
          "data": {
            "text/plain": [
              "Ram            0.743007\n",
              "Weight         0.210370\n",
              "Price          1.000000\n",
              "Touchscreen    0.191226\n",
              "Ips            0.252208\n",
              "ppi            0.473487\n",
              "HDD           -0.024428\n",
              "SSD            0.529437\n",
              "Name: Price, dtype: float64"
            ]
          },
          "metadata": {},
          "execution_count": 76
        }
      ]
    },
    {
      "cell_type": "code",
      "source": [
        "df.drop(columns=['Hybrid','Flash_Storage'],inplace=True)"
      ],
      "metadata": {
        "id": "ilgCWKUwQ_bu"
      },
      "execution_count": 75,
      "outputs": []
    },
    {
      "cell_type": "code",
      "source": [
        "df['Gpu'].value_counts()"
      ],
      "metadata": {
        "colab": {
          "base_uri": "https://localhost:8080/"
        },
        "id": "RGzbYJMURLHq",
        "outputId": "aa28bcc1-be5e-4274-bedb-0816a0269f2e"
      },
      "execution_count": 77,
      "outputs": [
        {
          "output_type": "execute_result",
          "data": {
            "text/plain": [
              "Intel HD Graphics 620      281\n",
              "Intel HD Graphics 520      185\n",
              "Intel UHD Graphics 620      68\n",
              "Nvidia GeForce GTX 1050     66\n",
              "Nvidia GeForce GTX 1060     48\n",
              "                          ... \n",
              "AMD Radeon R5 520            1\n",
              "AMD Radeon R7                1\n",
              "Intel HD Graphics 540        1\n",
              "AMD Radeon 540               1\n",
              "ARM Mali T860 MP4            1\n",
              "Name: Gpu, Length: 110, dtype: int64"
            ]
          },
          "metadata": {},
          "execution_count": 77
        }
      ]
    },
    {
      "cell_type": "code",
      "source": [
        "df['Gpu brand'] = df['Gpu'].str.split().str[0]"
      ],
      "metadata": {
        "id": "TYWgD1ryR0TP"
      },
      "execution_count": 78,
      "outputs": []
    },
    {
      "cell_type": "code",
      "source": [
        "df.sample(3)"
      ],
      "metadata": {
        "colab": {
          "base_uri": "https://localhost:8080/",
          "height": 142
        },
        "id": "ZsOnsgHZR-4z",
        "outputId": "f8d56349-6328-42ce-8350-fd12561bd778"
      },
      "execution_count": 79,
      "outputs": [
        {
          "output_type": "execute_result",
          "data": {
            "text/plain": [
              "     Company  TypeName  Ram                      Gpu       OpSys  Weight  \\\n",
              "1108      HP  Notebook    4            AMD Radeon R4  Windows 10    2.10   \n",
              "1008      HP  Notebook    8     Nvidia GeForce 930MX  Windows 10    1.64   \n",
              "367   Lenovo    Gaming    8  Nvidia GeForce GTX 1050       No OS    2.40   \n",
              "\n",
              "           Price  Touchscreen  Ips         ppi      Cpu brand   HDD   SSD  \\\n",
              "1108  21205.4400            0    0  141.211998  AMD Processor  1000     0   \n",
              "1008  55904.5728            0    0  157.350512  Intel Core i5     0   256   \n",
              "367   43103.5200            0    1  141.211998  Intel Core i5  1128  1128   \n",
              "\n",
              "     Gpu brand  \n",
              "1108       AMD  \n",
              "1008    Nvidia  \n",
              "367     Nvidia  "
            ],
            "text/html": [
              "\n",
              "  <div id=\"df-829cbf6e-7d4f-4987-b941-58e675a56c93\">\n",
              "    <div class=\"colab-df-container\">\n",
              "      <div>\n",
              "<style scoped>\n",
              "    .dataframe tbody tr th:only-of-type {\n",
              "        vertical-align: middle;\n",
              "    }\n",
              "\n",
              "    .dataframe tbody tr th {\n",
              "        vertical-align: top;\n",
              "    }\n",
              "\n",
              "    .dataframe thead th {\n",
              "        text-align: right;\n",
              "    }\n",
              "</style>\n",
              "<table border=\"1\" class=\"dataframe\">\n",
              "  <thead>\n",
              "    <tr style=\"text-align: right;\">\n",
              "      <th></th>\n",
              "      <th>Company</th>\n",
              "      <th>TypeName</th>\n",
              "      <th>Ram</th>\n",
              "      <th>Gpu</th>\n",
              "      <th>OpSys</th>\n",
              "      <th>Weight</th>\n",
              "      <th>Price</th>\n",
              "      <th>Touchscreen</th>\n",
              "      <th>Ips</th>\n",
              "      <th>ppi</th>\n",
              "      <th>Cpu brand</th>\n",
              "      <th>HDD</th>\n",
              "      <th>SSD</th>\n",
              "      <th>Gpu brand</th>\n",
              "    </tr>\n",
              "  </thead>\n",
              "  <tbody>\n",
              "    <tr>\n",
              "      <th>1108</th>\n",
              "      <td>HP</td>\n",
              "      <td>Notebook</td>\n",
              "      <td>4</td>\n",
              "      <td>AMD Radeon R4</td>\n",
              "      <td>Windows 10</td>\n",
              "      <td>2.10</td>\n",
              "      <td>21205.4400</td>\n",
              "      <td>0</td>\n",
              "      <td>0</td>\n",
              "      <td>141.211998</td>\n",
              "      <td>AMD Processor</td>\n",
              "      <td>1000</td>\n",
              "      <td>0</td>\n",
              "      <td>AMD</td>\n",
              "    </tr>\n",
              "    <tr>\n",
              "      <th>1008</th>\n",
              "      <td>HP</td>\n",
              "      <td>Notebook</td>\n",
              "      <td>8</td>\n",
              "      <td>Nvidia GeForce 930MX</td>\n",
              "      <td>Windows 10</td>\n",
              "      <td>1.64</td>\n",
              "      <td>55904.5728</td>\n",
              "      <td>0</td>\n",
              "      <td>0</td>\n",
              "      <td>157.350512</td>\n",
              "      <td>Intel Core i5</td>\n",
              "      <td>0</td>\n",
              "      <td>256</td>\n",
              "      <td>Nvidia</td>\n",
              "    </tr>\n",
              "    <tr>\n",
              "      <th>367</th>\n",
              "      <td>Lenovo</td>\n",
              "      <td>Gaming</td>\n",
              "      <td>8</td>\n",
              "      <td>Nvidia GeForce GTX 1050</td>\n",
              "      <td>No OS</td>\n",
              "      <td>2.40</td>\n",
              "      <td>43103.5200</td>\n",
              "      <td>0</td>\n",
              "      <td>1</td>\n",
              "      <td>141.211998</td>\n",
              "      <td>Intel Core i5</td>\n",
              "      <td>1128</td>\n",
              "      <td>1128</td>\n",
              "      <td>Nvidia</td>\n",
              "    </tr>\n",
              "  </tbody>\n",
              "</table>\n",
              "</div>\n",
              "      <button class=\"colab-df-convert\" onclick=\"convertToInteractive('df-829cbf6e-7d4f-4987-b941-58e675a56c93')\"\n",
              "              title=\"Convert this dataframe to an interactive table.\"\n",
              "              style=\"display:none;\">\n",
              "        \n",
              "  <svg xmlns=\"http://www.w3.org/2000/svg\" height=\"24px\"viewBox=\"0 0 24 24\"\n",
              "       width=\"24px\">\n",
              "    <path d=\"M0 0h24v24H0V0z\" fill=\"none\"/>\n",
              "    <path d=\"M18.56 5.44l.94 2.06.94-2.06 2.06-.94-2.06-.94-.94-2.06-.94 2.06-2.06.94zm-11 1L8.5 8.5l.94-2.06 2.06-.94-2.06-.94L8.5 2.5l-.94 2.06-2.06.94zm10 10l.94 2.06.94-2.06 2.06-.94-2.06-.94-.94-2.06-.94 2.06-2.06.94z\"/><path d=\"M17.41 7.96l-1.37-1.37c-.4-.4-.92-.59-1.43-.59-.52 0-1.04.2-1.43.59L10.3 9.45l-7.72 7.72c-.78.78-.78 2.05 0 2.83L4 21.41c.39.39.9.59 1.41.59.51 0 1.02-.2 1.41-.59l7.78-7.78 2.81-2.81c.8-.78.8-2.07 0-2.86zM5.41 20L4 18.59l7.72-7.72 1.47 1.35L5.41 20z\"/>\n",
              "  </svg>\n",
              "      </button>\n",
              "      \n",
              "  <style>\n",
              "    .colab-df-container {\n",
              "      display:flex;\n",
              "      flex-wrap:wrap;\n",
              "      gap: 12px;\n",
              "    }\n",
              "\n",
              "    .colab-df-convert {\n",
              "      background-color: #E8F0FE;\n",
              "      border: none;\n",
              "      border-radius: 50%;\n",
              "      cursor: pointer;\n",
              "      display: none;\n",
              "      fill: #1967D2;\n",
              "      height: 32px;\n",
              "      padding: 0 0 0 0;\n",
              "      width: 32px;\n",
              "    }\n",
              "\n",
              "    .colab-df-convert:hover {\n",
              "      background-color: #E2EBFA;\n",
              "      box-shadow: 0px 1px 2px rgba(60, 64, 67, 0.3), 0px 1px 3px 1px rgba(60, 64, 67, 0.15);\n",
              "      fill: #174EA6;\n",
              "    }\n",
              "\n",
              "    [theme=dark] .colab-df-convert {\n",
              "      background-color: #3B4455;\n",
              "      fill: #D2E3FC;\n",
              "    }\n",
              "\n",
              "    [theme=dark] .colab-df-convert:hover {\n",
              "      background-color: #434B5C;\n",
              "      box-shadow: 0px 1px 3px 1px rgba(0, 0, 0, 0.15);\n",
              "      filter: drop-shadow(0px 1px 2px rgba(0, 0, 0, 0.3));\n",
              "      fill: #FFFFFF;\n",
              "    }\n",
              "  </style>\n",
              "\n",
              "      <script>\n",
              "        const buttonEl =\n",
              "          document.querySelector('#df-829cbf6e-7d4f-4987-b941-58e675a56c93 button.colab-df-convert');\n",
              "        buttonEl.style.display =\n",
              "          google.colab.kernel.accessAllowed ? 'block' : 'none';\n",
              "\n",
              "        async function convertToInteractive(key) {\n",
              "          const element = document.querySelector('#df-829cbf6e-7d4f-4987-b941-58e675a56c93');\n",
              "          const dataTable =\n",
              "            await google.colab.kernel.invokeFunction('convertToInteractive',\n",
              "                                                     [key], {});\n",
              "          if (!dataTable) return;\n",
              "\n",
              "          const docLinkHtml = 'Like what you see? Visit the ' +\n",
              "            '<a target=\"_blank\" href=https://colab.research.google.com/notebooks/data_table.ipynb>data table notebook</a>'\n",
              "            + ' to learn more about interactive tables.';\n",
              "          element.innerHTML = '';\n",
              "          dataTable['output_type'] = 'display_data';\n",
              "          await google.colab.output.renderOutput(dataTable, element);\n",
              "          const docLink = document.createElement('div');\n",
              "          docLink.innerHTML = docLinkHtml;\n",
              "          element.appendChild(docLink);\n",
              "        }\n",
              "      </script>\n",
              "    </div>\n",
              "  </div>\n",
              "  "
            ]
          },
          "metadata": {},
          "execution_count": 79
        }
      ]
    },
    {
      "cell_type": "code",
      "source": [
        "df['Gpu brand'].value_counts()"
      ],
      "metadata": {
        "colab": {
          "base_uri": "https://localhost:8080/"
        },
        "id": "8PNrr370SBVk",
        "outputId": "441383cf-e5ee-4066-c71b-55349a805f22"
      },
      "execution_count": 80,
      "outputs": [
        {
          "output_type": "execute_result",
          "data": {
            "text/plain": [
              "Intel     722\n",
              "Nvidia    400\n",
              "AMD       180\n",
              "ARM         1\n",
              "Name: Gpu brand, dtype: int64"
            ]
          },
          "metadata": {},
          "execution_count": 80
        }
      ]
    },
    {
      "cell_type": "code",
      "source": [
        "df = df[df['Gpu brand'] != 'ARM']"
      ],
      "metadata": {
        "id": "QgYhsHNSSE6U"
      },
      "execution_count": 81,
      "outputs": []
    },
    {
      "cell_type": "code",
      "source": [
        "gpu_counts = df['Gpu brand'].value_counts()\n",
        "\n",
        "plt.figure(figsize=(9, 7))\n",
        "\n",
        "colors = ['#E883B4', '#F1B5D2', '#FAE6F0']\n",
        "\n",
        "patches, _ = plt.pie(gpu_counts, labels=gpu_counts.index, explode=(0.05, 0, 0), startangle=90, colors=colors)\n",
        "\n",
        "plt.title('GPU Brand Distribution', fontweight='bold', fontsize=16)\n",
        "\n",
        "for patch, count in zip(patches, gpu_counts):\n",
        "    angle = patch.theta1 + (patch.theta2 - patch.theta1) / 2\n",
        "    x = patch.r * 0.6 * np.cos(np.deg2rad(angle))\n",
        "    y = patch.r * 0.6 * np.sin(np.deg2rad(angle))\n",
        "\n",
        "    plt.text(x, y, str(count), ha='center', va='center')\n",
        "\n",
        "plt.xticks(fontweight='bold')\n",
        "\n",
        "plt.show()\n"
      ],
      "metadata": {
        "colab": {
          "base_uri": "https://localhost:8080/",
          "height": 600
        },
        "id": "RQOZN6AsSXD_",
        "outputId": "32f90297-3ec0-48eb-caf4-bcc7e405a2b0"
      },
      "execution_count": 99,
      "outputs": [
        {
          "output_type": "display_data",
          "data": {
            "text/plain": [
              "<Figure size 900x700 with 1 Axes>"
            ],
            "image/png": "[encoded data removed]"
          },
          "metadata": {}
        }
      ]
    },
    {
      "cell_type": "code",
      "source": [
        "df['OpSys'].value_counts()"
      ],
      "metadata": {
        "colab": {
          "base_uri": "https://localhost:8080/"
        },
        "id": "glKH8_rkVmgr",
        "outputId": "d513f2f4-6e4c-4d7c-940f-77dabe9a933b"
      },
      "execution_count": 101,
      "outputs": [
        {
          "output_type": "execute_result",
          "data": {
            "text/plain": [
              "Windows 10      1072\n",
              "No OS             66\n",
              "Linux             62\n",
              "Windows 7         45\n",
              "Chrome OS         26\n",
              "macOS             13\n",
              "Mac OS X           8\n",
              "Windows 10 S       8\n",
              "Android            2\n",
              "Name: OpSys, dtype: int64"
            ]
          },
          "metadata": {},
          "execution_count": 101
        }
      ]
    },
    {
      "cell_type": "code",
      "source": [
        "plt.figure(figsize=(10, 6))\n",
        "sns.set(style=\"whitegrid\")\n",
        "\n",
        "sns.barplot(x=df['OpSys'], y=df['Price'], palette = 'autumn')\n",
        "\n",
        "plt.title('Price by Operating System', fontweight='bold', fontsize=16)\n",
        "plt.xlabel('Operating System', fontweight='bold')\n",
        "plt.ylabel('Price', fontweight='bold')\n",
        "\n",
        "plt.xticks(rotation= 45)\n",
        "\n",
        "plt.show()\n"
      ],
      "metadata": {
        "colab": {
          "base_uri": "https://localhost:8080/",
          "height": 646
        },
        "id": "5UGCyCaVVqPc",
        "outputId": "8758602f-e614-470d-827a-61e0c822af4e"
      },
      "execution_count": 104,
      "outputs": [
        {
          "output_type": "display_data",
          "data": {
            "text/plain": [
              "<Figure size 1000x600 with 1 Axes>"
            ],
            "image/png": "[encoded data removed]"
          },
          "metadata": {}
        }
      ]
    },
    {
      "cell_type": "code",
      "source": [
        "os_mapping = {\n",
        "    'Windows 10': 'Windows',\n",
        "    'Windows 7': 'Windows',\n",
        "    'Windows 10 S': 'Windows',\n",
        "    'macOS': 'Mac',\n",
        "    'Mac OS X': 'Mac'\n",
        "}"
      ],
      "metadata": {
        "id": "encU-SJpWTVl"
      },
      "execution_count": 106,
      "outputs": []
    },
    {
      "cell_type": "code",
      "source": [
        "df['os'] = df['OpSys'].map(os_mapping).fillna('Others/No OS/Linux')"
      ],
      "metadata": {
        "id": "zD-fZmJGWv0T"
      },
      "execution_count": 107,
      "outputs": []
    },
    {
      "cell_type": "code",
      "source": [
        "df.sample(5)"
      ],
      "metadata": {
        "colab": {
          "base_uri": "https://localhost:8080/",
          "height": 204
        },
        "id": "2v2o4Ot0WwZN",
        "outputId": "4603673d-a0f8-4ab5-e9bb-44ef9976a342"
      },
      "execution_count": 110,
      "outputs": [
        {
          "output_type": "execute_result",
          "data": {
            "text/plain": [
              "       Company   TypeName  Ram       OpSys  Weight     Price  Touchscreen  \\\n",
              "772    Toshiba   Notebook    4  Windows 10    1.75  54345.60            0   \n",
              "188       Acer  Ultrabook    8  Windows 10    1.12  52693.92            0   \n",
              "948       Dell   Notebook    4  Windows 10    2.36  35111.52            0   \n",
              "1014        HP   Notebook    4  Windows 10    1.49  42624.00            0   \n",
              "533   Mediacom   Notebook    4  Windows 10    1.20  19660.32            0   \n",
              "\n",
              "      Ips         ppi              Cpu brand   HDD  SSD Gpu brand       os  \n",
              "772     1  111.935204          Intel Core i5     0  128     Intel  Windows  \n",
              "188     1  165.632118          Intel Core i5     0  256     Intel  Windows  \n",
              "948     0  106.113062          Intel Core i3  1000    0       AMD  Windows  \n",
              "1014    0  117.826530          Intel Core i3   500    0     Intel  Windows  \n",
              "533     1  165.632118  Other Intel Processor     0   32     Intel  Windows  "
            ],
            "text/html": [
              "\n",
              "  <div id=\"df-1c52f215-f99f-4fdf-aac8-3baff81c722d\">\n",
              "    <div class=\"colab-df-container\">\n",
              "      <div>\n",
              "<style scoped>\n",
              "    .dataframe tbody tr th:only-of-type {\n",
              "        vertical-align: middle;\n",
              "    }\n",
              "\n",
              "    .dataframe tbody tr th {\n",
              "        vertical-align: top;\n",
              "    }\n",
              "\n",
              "    .dataframe thead th {\n",
              "        text-align: right;\n",
              "    }\n",
              "</style>\n",
              "<table border=\"1\" class=\"dataframe\">\n",
              "  <thead>\n",
              "    <tr style=\"text-align: right;\">\n",
              "      <th></th>\n",
              "      <th>Company</th>\n",
              "      <th>TypeName</th>\n",
              "      <th>Ram</th>\n",
              "      <th>OpSys</th>\n",
              "      <th>Weight</th>\n",
              "      <th>Price</th>\n",
              "      <th>Touchscreen</th>\n",
              "      <th>Ips</th>\n",
              "      <th>ppi</th>\n",
              "      <th>Cpu brand</th>\n",
              "      <th>HDD</th>\n",
              "      <th>SSD</th>\n",
              "      <th>Gpu brand</th>\n",
              "      <th>os</th>\n",
              "    </tr>\n",
              "  </thead>\n",
              "  <tbody>\n",
              "    <tr>\n",
              "      <th>772</th>\n",
              "      <td>Toshiba</td>\n",
              "      <td>Notebook</td>\n",
              "      <td>4</td>\n",
              "      <td>Windows 10</td>\n",
              "      <td>1.75</td>\n",
              "      <td>54345.60</td>\n",
              "      <td>0</td>\n",
              "      <td>1</td>\n",
              "      <td>111.935204</td>\n",
              "      <td>Intel Core i5</td>\n",
              "      <td>0</td>\n",
              "      <td>128</td>\n",
              "      <td>Intel</td>\n",
              "      <td>Windows</td>\n",
              "    </tr>\n",
              "    <tr>\n",
              "      <th>188</th>\n",
              "      <td>Acer</td>\n",
              "      <td>Ultrabook</td>\n",
              "      <td>8</td>\n",
              "      <td>Windows 10</td>\n",
              "      <td>1.12</td>\n",
              "      <td>52693.92</td>\n",
              "      <td>0</td>\n",
              "      <td>1</td>\n",
              "      <td>165.632118</td>\n",
              "      <td>Intel Core i5</td>\n",
              "      <td>0</td>\n",
              "      <td>256</td>\n",
              "      <td>Intel</td>\n",
              "      <td>Windows</td>\n",
              "    </tr>\n",
              "    <tr>\n",
              "      <th>948</th>\n",
              "      <td>Dell</td>\n",
              "      <td>Notebook</td>\n",
              "      <td>4</td>\n",
              "      <td>Windows 10</td>\n",
              "      <td>2.36</td>\n",
              "      <td>35111.52</td>\n",
              "      <td>0</td>\n",
              "      <td>0</td>\n",
              "      <td>106.113062</td>\n",
              "      <td>Intel Core i3</td>\n",
              "      <td>1000</td>\n",
              "      <td>0</td>\n",
              "      <td>AMD</td>\n",
              "      <td>Windows</td>\n",
              "    </tr>\n",
              "    <tr>\n",
              "      <th>1014</th>\n",
              "      <td>HP</td>\n",
              "      <td>Notebook</td>\n",
              "      <td>4</td>\n",
              "      <td>Windows 10</td>\n",
              "      <td>1.49</td>\n",
              "      <td>42624.00</td>\n",
              "      <td>0</td>\n",
              "      <td>0</td>\n",
              "      <td>117.826530</td>\n",
              "      <td>Intel Core i3</td>\n",
              "      <td>500</td>\n",
              "      <td>0</td>\n",
              "      <td>Intel</td>\n",
              "      <td>Windows</td>\n",
              "    </tr>\n",
              "    <tr>\n",
              "      <th>533</th>\n",
              "      <td>Mediacom</td>\n",
              "      <td>Notebook</td>\n",
              "      <td>4</td>\n",
              "      <td>Windows 10</td>\n",
              "      <td>1.20</td>\n",
              "      <td>19660.32</td>\n",
              "      <td>0</td>\n",
              "      <td>1</td>\n",
              "      <td>165.632118</td>\n",
              "      <td>Other Intel Processor</td>\n",
              "      <td>0</td>\n",
              "      <td>32</td>\n",
              "      <td>Intel</td>\n",
              "      <td>Windows</td>\n",
              "    </tr>\n",
              "  </tbody>\n",
              "</table>\n",
              "</div>\n",
              "      <button class=\"colab-df-convert\" onclick=\"convertToInteractive('df-1c52f215-f99f-4fdf-aac8-3baff81c722d')\"\n",
              "              title=\"Convert this dataframe to an interactive table.\"\n",
              "              style=\"display:none;\">\n",
              "        \n",
              "  <svg xmlns=\"http://www.w3.org/2000/svg\" height=\"24px\"viewBox=\"0 0 24 24\"\n",
              "       width=\"24px\">\n",
              "    <path d=\"M0 0h24v24H0V0z\" fill=\"none\"/>\n",
              "    <path d=\"M18.56 5.44l.94 2.06.94-2.06 2.06-.94-2.06-.94-.94-2.06-.94 2.06-2.06.94zm-11 1L8.5 8.5l.94-2.06 2.06-.94-2.06-.94L8.5 2.5l-.94 2.06-2.06.94zm10 10l.94 2.06.94-2.06 2.06-.94-2.06-.94-.94-2.06-.94 2.06-2.06.94z\"/><path d=\"M17.41 7.96l-1.37-1.37c-.4-.4-.92-.59-1.43-.59-.52 0-1.04.2-1.43.59L10.3 9.45l-7.72 7.72c-.78.78-.78 2.05 0 2.83L4 21.41c.39.39.9.59 1.41.59.51 0 1.02-.2 1.41-.59l7.78-7.78 2.81-2.81c.8-.78.8-2.07 0-2.86zM5.41 20L4 18.59l7.72-7.72 1.47 1.35L5.41 20z\"/>\n",
              "  </svg>\n",
              "      </button>\n",
              "      \n",
              "  <style>\n",
              "    .colab-df-container {\n",
              "      display:flex;\n",
              "      flex-wrap:wrap;\n",
              "      gap: 12px;\n",
              "    }\n",
              "\n",
              "    .colab-df-convert {\n",
              "      background-color: #E8F0FE;\n",
              "      border: none;\n",
              "      border-radius: 50%;\n",
              "      cursor: pointer;\n",
              "      display: none;\n",
              "      fill: #1967D2;\n",
              "      height: 32px;\n",
              "      padding: 0 0 0 0;\n",
              "      width: 32px;\n",
              "    }\n",
              "\n",
              "    .colab-df-convert:hover {\n",
              "      background-color: #E2EBFA;\n",
              "      box-shadow: 0px 1px 2px rgba(60, 64, 67, 0.3), 0px 1px 3px 1px rgba(60, 64, 67, 0.15);\n",
              "      fill: #174EA6;\n",
              "    }\n",
              "\n",
              "    [theme=dark] .colab-df-convert {\n",
              "      background-color: #3B4455;\n",
              "      fill: #D2E3FC;\n",
              "    }\n",
              "\n",
              "    [theme=dark] .colab-df-convert:hover {\n",
              "      background-color: #434B5C;\n",
              "      box-shadow: 0px 1px 3px 1px rgba(0, 0, 0, 0.15);\n",
              "      filter: drop-shadow(0px 1px 2px rgba(0, 0, 0, 0.3));\n",
              "      fill: #FFFFFF;\n",
              "    }\n",
              "  </style>\n",
              "\n",
              "      <script>\n",
              "        const buttonEl =\n",
              "          document.querySelector('#df-1c52f215-f99f-4fdf-aac8-3baff81c722d button.colab-df-convert');\n",
              "        buttonEl.style.display =\n",
              "          google.colab.kernel.accessAllowed ? 'block' : 'none';\n",
              "\n",
              "        async function convertToInteractive(key) {\n",
              "          const element = document.querySelector('#df-1c52f215-f99f-4fdf-aac8-3baff81c722d');\n",
              "          const dataTable =\n",
              "            await google.colab.kernel.invokeFunction('convertToInteractive',\n",
              "                                                     [key], {});\n",
              "          if (!dataTable) return;\n",
              "\n",
              "          const docLinkHtml = 'Like what you see? Visit the ' +\n",
              "            '<a target=\"_blank\" href=https://colab.research.google.com/notebooks/data_table.ipynb>data table notebook</a>'\n",
              "            + ' to learn more about interactive tables.';\n",
              "          element.innerHTML = '';\n",
              "          dataTable['output_type'] = 'display_data';\n",
              "          await google.colab.output.renderOutput(dataTable, element);\n",
              "          const docLink = document.createElement('div');\n",
              "          docLink.innerHTML = docLinkHtml;\n",
              "          element.appendChild(docLink);\n",
              "        }\n",
              "      </script>\n",
              "    </div>\n",
              "  </div>\n",
              "  "
            ]
          },
          "metadata": {},
          "execution_count": 110
        }
      ]
    },
    {
      "cell_type": "code",
      "source": [
        "df.drop(columns=['OpSys'],inplace=True)"
      ],
      "metadata": {
        "id": "_1l6jinKW0os"
      },
      "execution_count": 111,
      "outputs": []
    },
    {
      "cell_type": "code",
      "source": [
        "sns.boxplot(x=df['os'], y=df['Price'], palette='viridis')\n",
        "plt.xticks(rotation='vertical')\n",
        "plt.ylim(0, 160000)\n",
        "plt.title('Price Distribution by Operating System', fontweight='bold', fontsize=16)\n",
        "plt.xlabel('Operating System', fontweight='bold')\n",
        "plt.ylabel('Price', fontweight='bold')\n",
        "plt.xticks(rotation= 45)\n",
        "plt.show()\n"
      ],
      "metadata": {
        "colab": {
          "base_uri": "https://localhost:8080/",
          "height": 584
        },
        "id": "KLjwpqwmXMf_",
        "outputId": "364b3399-66a8-48a1-a529-e35f158846b4"
      },
      "execution_count": 120,
      "outputs": [
        {
          "output_type": "display_data",
          "data": {
            "text/plain": [
              "<Figure size 640x480 with 1 Axes>"
            ],
            "image/png": "[encoded data removed]"
          },
          "metadata": {}
        }
      ]
    },
    {
      "cell_type": "code",
      "source": [
        "sns.scatterplot(x=df['Weight'], y=df['Price'], c = '#DF5296')\n",
        "plt.title('Weight vs Price', fontweight='bold', fontsize=16)\n",
        "plt.xlabel('Weight', fontweight='bold')\n",
        "plt.ylabel('Price', fontweight='bold')\n",
        "plt.show()"
      ],
      "metadata": {
        "colab": {
          "base_uri": "https://localhost:8080/",
          "height": 482
        },
        "id": "qIJJBfXBXtKq",
        "outputId": "b51d7193-92d6-4b85-9c8a-0444a19d8c62"
      },
      "execution_count": 123,
      "outputs": [
        {
          "output_type": "display_data",
          "data": {
            "text/plain": [
              "<Figure size 640x480 with 1 Axes>"
            ],
            "image/png": "[encoded data removed]"
          },
          "metadata": {}
        }
      ]
    },
    {
      "cell_type": "code",
      "source": [
        "sns.heatmap(df.corr(), cmap='YlOrRd')\n",
        "plt.title('Correlation Matrix', fontweight='bold', fontsize=16)\n",
        "plt.show()\n"
      ],
      "metadata": {
        "colab": {
          "base_uri": "https://localhost:8080/",
          "height": 593
        },
        "id": "92LR3kNWYnpn",
        "outputId": "382fda2d-d5af-4dbe-d8b2-b10a2b9fa4e7"
      },
      "execution_count": 129,
      "outputs": [
        {
          "output_type": "stream",
          "name": "stderr",
          "text": [
            "<ipython-input-129-0aaac1ab8655>:1: FutureWarning: The default value of numeric_only in DataFrame.corr is deprecated. In a future version, it will default to False. Select only valid columns or specify the value of numeric_only to silence this warning.\n",
            "  sns.heatmap(df.corr(), cmap='YlOrRd')\n"
          ]
        },
        {
          "output_type": "display_data",
          "data": {
            "text/plain": [
              "<Figure size 640x480 with 2 Axes>"
            ],
            "image/png": "[encoded data removed]"
          },
          "metadata": {}
        }
      ]
    },
    {
      "cell_type": "markdown",
      "source": [
        "# **Training the model**"
      ],
      "metadata": {
        "id": "1SkXgBteaHgF"
      }
    },
    {
      "cell_type": "code",
      "source": [
        "X = df.drop(columns=['Price'])\n",
        "y = np.log(df['Price'])"
      ],
      "metadata": {
        "id": "flbdEZbFZCXF"
      },
      "execution_count": 130,
      "outputs": []
    },
    {
      "cell_type": "code",
      "source": [
        "from sklearn.compose import ColumnTransformer\n",
        "from sklearn.preprocessing import OneHotEncoder\n",
        "from sklearn.linear_model import LinearRegression\n",
        "from sklearn.model_selection import train_test_split\n",
        "from sklearn.metrics import r2_score, mean_absolute_error\n",
        "from sklearn.pipeline import Pipeline"
      ],
      "metadata": {
        "id": "d-GbnqpDZ-wr"
      },
      "execution_count": 149,
      "outputs": []
    },
    {
      "cell_type": "code",
      "source": [
        "X_train,X_test,y_train,y_test = train_test_split(X,y,test_size=0.15,random_state=2)"
      ],
      "metadata": {
        "id": "DttOqpZ0aX6P"
      },
      "execution_count": 132,
      "outputs": []
    },
    {
      "cell_type": "code",
      "source": [
        "# Apply one-hot encoding\n",
        "\n",
        "transformer = ColumnTransformer(\n",
        "    transformers=[\n",
        "        ('col_tnf', OneHotEncoder(sparse=False, drop='first'), [0, 1, 7, 10, 11])\n",
        "    ],\n",
        "    remainder='passthrough'\n",
        ")"
      ],
      "metadata": {
        "id": "aWDq9swFaanH"
      },
      "execution_count": 147,
      "outputs": []
    },
    {
      "cell_type": "code",
      "source": [
        "X_train_encoded = ct.fit_transform(X_train)\n",
        "X_test_encoded = ct.transform(X_test)"
      ],
      "metadata": {
        "colab": {
          "base_uri": "https://localhost:8080/"
        },
        "id": "tJlv3R0GbSpZ",
        "outputId": "340c1213-22d5-4cd7-a5cf-81e305827abb"
      },
      "execution_count": 139,
      "outputs": [
        {
          "output_type": "stream",
          "name": "stderr",
          "text": [
            "/usr/local/lib/python3.10/dist-packages/sklearn/preprocessing/_encoders.py:868: FutureWarning: `sparse` was renamed to `sparse_output` in version 1.2 and will be removed in 1.4. `sparse_output` is ignored unless you leave `sparse` to its default value.\n",
            "  warnings.warn(\n"
          ]
        }
      ]
    },
    {
      "cell_type": "code",
      "source": [
        "pipe = Pipeline([\n",
        "    ('transformer', transformer),\n",
        "    ('model', LinearRegression())\n",
        "])"
      ],
      "metadata": {
        "id": "gJjVQC5Dd_IY"
      },
      "execution_count": 150,
      "outputs": []
    },
    {
      "cell_type": "code",
      "source": [
        "pipe.fit(X_train, y_train)"
      ],
      "metadata": {
        "colab": {
          "base_uri": "https://localhost:8080/",
          "height": 242
        },
        "id": "9-eOsRSZeJ2n",
        "outputId": "b6365945-e94c-44c1-868f-3025ee074a7f"
      },
      "execution_count": 151,
      "outputs": [
        {
          "output_type": "stream",
          "name": "stderr",
          "text": [
            "/usr/local/lib/python3.10/dist-packages/sklearn/preprocessing/_encoders.py:868: FutureWarning: `sparse` was renamed to `sparse_output` in version 1.2 and will be removed in 1.4. `sparse_output` is ignored unless you leave `sparse` to its default value.\n",
            "  warnings.warn(\n"
          ]
        },
        {
          "output_type": "execute_result",
          "data": {
            "text/plain": [
              "Pipeline(steps=[('transformer',\n",
              "                 ColumnTransformer(remainder='passthrough',\n",
              "                                   transformers=[('col_tnf',\n",
              "                                                  OneHotEncoder(drop='first',\n",
              "                                                                sparse=False),\n",
              "                                                  [0, 1, 7, 10, 11])])),\n",
              "                ('model', LinearRegression())])"
            ],
            "text/html": [
              "<style>#sk-container-id-2 {color: black;background-color: white;}#sk-container-id-2 pre{padding: 0;}#sk-container-id-2 div.sk-toggleable {background-color: white;}#sk-container-id-2 label.sk-toggleable__label {cursor: pointer;display: block;width: 100%;margin-bottom: 0;padding: 0.3em;box-sizing: border-box;text-align: center;}#sk-container-id-2 label.sk-toggleable__label-arrow:before {content: \"▸\";float: left;margin-right: 0.25em;color: #696969;}#sk-container-id-2 label.sk-toggleable__label-arrow:hover:before {color: black;}#sk-container-id-2 div.sk-estimator:hover label.sk-toggleable__label-arrow:before {color: black;}#sk-container-id-2 div.sk-toggleable__content {max-height: 0;max-width: 0;overflow: hidden;text-align: left;background-color: #f0f8ff;}#sk-container-id-2 div.sk-toggleable__content pre {margin: 0.2em;color: black;border-radius: 0.25em;background-color: #f0f8ff;}#sk-container-id-2 input.sk-toggleable__control:checked~div.sk-toggleable__content {max-height: 200px;max-width: 100%;overflow: auto;}#sk-container-id-2 input.sk-toggleable__control:checked~label.sk-toggleable__label-arrow:before {content: \"▾\";}#sk-container-id-2 div.sk-estimator input.sk-toggleable__control:checked~label.sk-toggleable__label {background-color: #d4ebff;}#sk-container-id-2 div.sk-label input.sk-toggleable__control:checked~label.sk-toggleable__label {background-color: #d4ebff;}#sk-container-id-2 input.sk-hidden--visually {border: 0;clip: rect(1px 1px 1px 1px);clip: rect(1px, 1px, 1px, 1px);height: 1px;margin: -1px;overflow: hidden;padding: 0;position: absolute;width: 1px;}#sk-container-id-2 div.sk-estimator {font-family: monospace;background-color: #f0f8ff;border: 1px dotted black;border-radius: 0.25em;box-sizing: border-box;margin-bottom: 0.5em;}#sk-container-id-2 div.sk-estimator:hover {background-color: #d4ebff;}#sk-container-id-2 div.sk-parallel-item::after {content: \"\";width: 100%;border-bottom: 1px solid gray;flex-grow: 1;}#sk-container-id-2 div.sk-label:hover label.sk-toggleable__label {background-color: #d4ebff;}#sk-container-id-2 div.sk-serial::before {content: \"\";position: absolute;border-left: 1px solid gray;box-sizing: border-box;top: 0;bottom: 0;left: 50%;z-index: 0;}#sk-container-id-2 div.sk-serial {display: flex;flex-direction: column;align-items: center;background-color: white;padding-right: 0.2em;padding-left: 0.2em;position: relative;}#sk-container-id-2 div.sk-item {position: relative;z-index: 1;}#sk-container-id-2 div.sk-parallel {display: flex;align-items: stretch;justify-content: center;background-color: white;position: relative;}#sk-container-id-2 div.sk-item::before, #sk-container-id-2 div.sk-parallel-item::before {content: \"\";position: absolute;border-left: 1px solid gray;box-sizing: border-box;top: 0;bottom: 0;left: 50%;z-index: -1;}#sk-container-id-2 div.sk-parallel-item {display: flex;flex-direction: column;z-index: 1;position: relative;background-color: white;}#sk-container-id-2 div.sk-parallel-item:first-child::after {align-self: flex-end;width: 50%;}#sk-container-id-2 div.sk-parallel-item:last-child::after {align-self: flex-start;width: 50%;}#sk-container-id-2 div.sk-parallel-item:only-child::after {width: 0;}#sk-container-id-2 div.sk-dashed-wrapped {border: 1px dashed gray;margin: 0 0.4em 0.5em 0.4em;box-sizing: border-box;padding-bottom: 0.4em;background-color: white;}#sk-container-id-2 div.sk-label label {font-family: monospace;font-weight: bold;display: inline-block;line-height: 1.2em;}#sk-container-id-2 div.sk-label-container {text-align: center;}#sk-container-id-2 div.sk-container {/* jupyter's `normalize.less` sets `[hidden] { display: none; }` but bootstrap.min.css set `[hidden] { display: none !important; }` so we also need the `!important` here to be able to override the default hidden behavior on the sphinx rendered scikit-learn.org. See: https://github.com/scikit-learn/scikit-learn/issues/21755 */display: inline-block !important;position: relative;}#sk-container-id-2 div.sk-text-repr-fallback {display: none;}</style><div id=\"sk-container-id-2\" class=\"sk-top-container\"><div class=\"sk-text-repr-fallback\"><pre>Pipeline(steps=[(&#x27;transformer&#x27;,\n",
              "                 ColumnTransformer(remainder=&#x27;passthrough&#x27;,\n",
              "                                   transformers=[(&#x27;col_tnf&#x27;,\n",
              "                                                  OneHotEncoder(drop=&#x27;first&#x27;,\n",
              "                                                                sparse=False),\n",
              "                                                  [0, 1, 7, 10, 11])])),\n",
              "                (&#x27;model&#x27;, LinearRegression())])</pre><b>In a Jupyter environment, please rerun this cell to show the HTML representation or trust the notebook. <br />On GitHub, the HTML representation is unable to render, please try loading this page with nbviewer.org.</b></div><div class=\"sk-container\" hidden><div class=\"sk-item sk-dashed-wrapped\"><div class=\"sk-label-container\"><div class=\"sk-label sk-toggleable\"><input class=\"sk-toggleable__control sk-hidden--visually\" id=\"sk-estimator-id-2\" type=\"checkbox\" ><label for=\"sk-estimator-id-2\" class=\"sk-toggleable__label sk-toggleable__label-arrow\">Pipeline</label><div class=\"sk-toggleable__content\"><pre>Pipeline(steps=[(&#x27;transformer&#x27;,\n",
              "                 ColumnTransformer(remainder=&#x27;passthrough&#x27;,\n",
              "                                   transformers=[(&#x27;col_tnf&#x27;,\n",
              "                                                  OneHotEncoder(drop=&#x27;first&#x27;,\n",
              "                                                                sparse=False),\n",
              "                                                  [0, 1, 7, 10, 11])])),\n",
              "                (&#x27;model&#x27;, LinearRegression())])</pre></div></div></div><div class=\"sk-serial\"><div class=\"sk-item sk-dashed-wrapped\"><div class=\"sk-label-container\"><div class=\"sk-label sk-toggleable\"><input class=\"sk-toggleable__control sk-hidden--visually\" id=\"sk-estimator-id-3\" type=\"checkbox\" ><label for=\"sk-estimator-id-3\" class=\"sk-toggleable__label sk-toggleable__label-arrow\">transformer: ColumnTransformer</label><div class=\"sk-toggleable__content\"><pre>ColumnTransformer(remainder=&#x27;passthrough&#x27;,\n",
              "                  transformers=[(&#x27;col_tnf&#x27;,\n",
              "                                 OneHotEncoder(drop=&#x27;first&#x27;, sparse=False),\n",
              "                                 [0, 1, 7, 10, 11])])</pre></div></div></div><div class=\"sk-parallel\"><div class=\"sk-parallel-item\"><div class=\"sk-item\"><div class=\"sk-label-container\"><div class=\"sk-label sk-toggleable\"><input class=\"sk-toggleable__control sk-hidden--visually\" id=\"sk-estimator-id-4\" type=\"checkbox\" ><label for=\"sk-estimator-id-4\" class=\"sk-toggleable__label sk-toggleable__label-arrow\">col_tnf</label><div class=\"sk-toggleable__content\"><pre>[0, 1, 7, 10, 11]</pre></div></div></div><div class=\"sk-serial\"><div class=\"sk-item\"><div class=\"sk-estimator sk-toggleable\"><input class=\"sk-toggleable__control sk-hidden--visually\" id=\"sk-estimator-id-5\" type=\"checkbox\" ><label for=\"sk-estimator-id-5\" class=\"sk-toggleable__label sk-toggleable__label-arrow\">OneHotEncoder</label><div class=\"sk-toggleable__content\"><pre>OneHotEncoder(drop=&#x27;first&#x27;, sparse=False)</pre></div></div></div></div></div></div><div class=\"sk-parallel-item\"><div class=\"sk-item\"><div class=\"sk-label-container\"><div class=\"sk-label sk-toggleable\"><input class=\"sk-toggleable__control sk-hidden--visually\" id=\"sk-estimator-id-6\" type=\"checkbox\" ><label for=\"sk-estimator-id-6\" class=\"sk-toggleable__label sk-toggleable__label-arrow\">remainder</label><div class=\"sk-toggleable__content\"><pre>[&#x27;Ram&#x27;, &#x27;Weight&#x27;, &#x27;Touchscreen&#x27;, &#x27;Ips&#x27;, &#x27;ppi&#x27;, &#x27;HDD&#x27;, &#x27;SSD&#x27;]</pre></div></div></div><div class=\"sk-serial\"><div class=\"sk-item\"><div class=\"sk-estimator sk-toggleable\"><input class=\"sk-toggleable__control sk-hidden--visually\" id=\"sk-estimator-id-7\" type=\"checkbox\" ><label for=\"sk-estimator-id-7\" class=\"sk-toggleable__label sk-toggleable__label-arrow\">passthrough</label><div class=\"sk-toggleable__content\"><pre>passthrough</pre></div></div></div></div></div></div></div></div><div class=\"sk-item\"><div class=\"sk-estimator sk-toggleable\"><input class=\"sk-toggleable__control sk-hidden--visually\" id=\"sk-estimator-id-8\" type=\"checkbox\" ><label for=\"sk-estimator-id-8\" class=\"sk-toggleable__label sk-toggleable__label-arrow\">LinearRegression</label><div class=\"sk-toggleable__content\"><pre>LinearRegression()</pre></div></div></div></div></div></div></div>"
            ]
          },
          "metadata": {},
          "execution_count": 151
        }
      ]
    },
    {
      "cell_type": "code",
      "source": [
        "y_pred = pipe.predict(X_test)"
      ],
      "metadata": {
        "id": "UrqDWnI-bxTF"
      },
      "execution_count": 152,
      "outputs": []
    },
    {
      "cell_type": "code",
      "source": [
        "# Evaluating the model\n",
        "print('R2 score:', r2_score(y_test, y_pred))\n",
        "print('MAE:', mean_absolute_error(y_test, y_pred))"
      ],
      "metadata": {
        "colab": {
          "base_uri": "https://localhost:8080/"
        },
        "id": "Z4OZG4-mbz62",
        "outputId": "4a73593f-5f49-4f90-8d6e-2b9669ac0fae"
      },
      "execution_count": 154,
      "outputs": [
        {
          "output_type": "stream",
          "name": "stdout",
          "text": [
            "R2 score: 0.8090942879851168\n",
            "MAE: 0.2117714518944287\n"
          ]
        }
      ]
    },
    {
      "cell_type": "markdown",
      "source": [
        "An R2 score of 0.809 indicates that approximately 80.91% of the variance in the logarithm of the price can be explained by the features included in the model."
      ],
      "metadata": {
        "id": "LVu1PFxxcHom"
      }
    },
    {
      "cell_type": "markdown",
      "source": [
        "**Exporting the model**"
      ],
      "metadata": {
        "id": "AaOv5s9Lehmt"
      }
    },
    {
      "cell_type": "code",
      "source": [
        "import pickle\n",
        "\n",
        "pickle.dump(df,open('df.pkl','wb'))\n",
        "pickle.dump(pipe,open('pipe.pkl','wb'))"
      ],
      "metadata": {
        "id": "P1oDgothcrOY"
      },
      "execution_count": 155,
      "outputs": []
    }
  ]
}